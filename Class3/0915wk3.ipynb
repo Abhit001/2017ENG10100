{
 "cells": [
  {
   "cell_type": "markdown",
   "metadata": {},
   "source": [
    "Write your own code  \n",
    "1. Git clone this repository & run jupyter notebook:\n",
    "in bash:\n",
    "git clone https://github.com/clairehxq/2017ENG10100.git     \n",
    "\n",
    "2. use repl.it  \n",
    "https://repl.it/   \n",
    "\n",
    "3. use terminal/command prompt ipython/python  \n",
    "In bash:  \n",
    "python,  \n",
    "or,  \n",
    "ipython"
   ]
  },
  {
   "cell_type": "markdown",
   "metadata": {},
   "source": [
    "# Schedule\n",
    "2:00 - 2:10 Set up environment  \n",
    "2:10 - 2:25 questions from wk 2 & general questions & schedules    \n",
    "2:25 - 3:00 Numeric types, operators  \n",
    "3:00 - 3:35 Control flow, python in practise, touchbase on functions  \n",
    "3:35 - 3:50 Homework 1   "
   ]
  },
  {
   "cell_type": "markdown",
   "metadata": {},
   "source": [
    "# Strings"
   ]
  },
  {
   "cell_type": "code",
   "execution_count": 1,
   "metadata": {
    "collapsed": true
   },
   "outputs": [],
   "source": [
    "str.lstrip?"
   ]
  },
  {
   "cell_type": "code",
   "execution_count": 4,
   "metadata": {
    "collapsed": false,
    "scrolled": true
   },
   "outputs": [
    {
     "name": "stdout",
     "output_type": "stream",
     "text": [
      "lol>>>\n"
     ]
    }
   ],
   "source": [
    "s1 = '...lol>>>'\n",
    "print s1.lstrip('.')"
   ]
  },
  {
   "cell_type": "code",
   "execution_count": 5,
   "metadata": {
    "collapsed": false
   },
   "outputs": [
    {
     "name": "stdout",
     "output_type": "stream",
     "text": [
      "...lol>>>\n"
     ]
    }
   ],
   "source": [
    "s2 = '...lol>>>'\n",
    "print s1.lstrip('')"
   ]
  },
  {
   "cell_type": "code",
   "execution_count": 3,
   "metadata": {
    "collapsed": false
   },
   "outputs": [
    {
     "name": "stdout",
     "output_type": "stream",
     "text": [
      "...lol>>>\n"
     ]
    }
   ],
   "source": [
    "s1 = '...lol>>>'\n",
    "print s1.lstrip('>')"
   ]
  },
  {
   "cell_type": "markdown",
   "metadata": {},
   "source": [
    "# Reading orders"
   ]
  },
  {
   "cell_type": "code",
   "execution_count": 7,
   "metadata": {
    "collapsed": false
   },
   "outputs": [
    {
     "name": "stdout",
     "output_type": "stream",
     "text": [
      "...lol>>\n"
     ]
    }
   ],
   "source": [
    "print s1[0:-1]"
   ]
  },
  {
   "cell_type": "code",
   "execution_count": 4,
   "metadata": {
    "collapsed": false
   },
   "outputs": [
    {
     "name": "stdout",
     "output_type": "stream",
     "text": [
      ">>>lol..\n"
     ]
    }
   ],
   "source": [
    "print s1[-1:0:-1] #the last -1 indicates it's reading in reversed order, i.e. right to left\n",
    "# while reading in reversed order, note starting point & ending point"
   ]
  },
  {
   "cell_type": "markdown",
   "metadata": {},
   "source": [
    "# Why is a decimal number called a float?\n",
    "https://en.wikipedia.org/wiki/IEEE_754-1985"
   ]
  }
 ],
 "metadata": {
  "anaconda-cloud": {},
  "kernelspec": {
   "display_name": "Python [Root]",
   "language": "python",
   "name": "Python [Root]"
  },
  "language_info": {
   "codemirror_mode": {
    "name": "ipython",
    "version": 2
   },
   "file_extension": ".py",
   "mimetype": "text/x-python",
   "name": "python",
   "nbconvert_exporter": "python",
   "pygments_lexer": "ipython2",
   "version": "2.7.13"
  }
 },
 "nbformat": 4,
 "nbformat_minor": 2
}
