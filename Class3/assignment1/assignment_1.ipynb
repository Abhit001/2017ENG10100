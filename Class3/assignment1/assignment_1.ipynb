{
 "cells": [
  {
   "cell_type": "markdown",
   "metadata": {},
   "source": [
    "<h1 align='center'> Challenge 1 </h1>\n",
    "### Submission Date: \n",
    "\n",
    "### Instructions:\n",
    "#### 1. Create your own notebook, or, pack your code in a .py file\n",
    "#### 2. Name .ipynb or .py file as \"HW_1_{}\".format(your_citymail_address) \n",
    "#### 3. Send your hw file to xhuang@citymail.cuny.edu\n",
    "#### 4. Try not to miss the deadline. \n",
    "#### 5. Plagiarism will not be tolerated."
   ]
  },
  {
   "cell_type": "markdown",
   "metadata": {},
   "source": [
    "# 1. \n",
    "Given a string, return a \"rotated left 2\" version where the first 2 chars are moved to the end. The string length will be at least 2.\n",
    "\n",
    "`'Hello' → 'lloHe'`\n",
    "\n",
    "`'java' → 'vaja'`\n",
    "\n",
    "`'Hi' → 'Hi'`"
   ]
  },
  {
   "cell_type": "code",
   "execution_count": 6,
   "metadata": {
    "collapsed": true
   },
   "outputs": [],
   "source": [
    "def rotate_string(mystr):\n",
    "    if len(mystr) >= 2:\n",
    "        return mystr[2:]+mystr[:2]\n",
    "    else:\n",
    "        print 'Error: string length must be at least 2'\n",
    "        return None"
   ]
  },
  {
   "cell_type": "code",
   "execution_count": 7,
   "metadata": {},
   "outputs": [
    {
     "name": "stdout",
     "output_type": "stream",
     "text": [
      "Error: string length must be at least 2\n"
     ]
    }
   ],
   "source": [
    "rotate_string('a')"
   ]
  },
  {
   "cell_type": "markdown",
   "metadata": {},
   "source": [
    "# 2.\n",
    "Change the following Python code from using a while loop to for loop:\n",
    "\n",
    "```\n",
    "x=1\n",
    "while x<10:\n",
    "       print x,\n",
    "       x+=1\n",
    "```"
   ]
  },
  {
   "cell_type": "markdown",
   "metadata": {},
   "source": [
    "# 3.\n",
    "Write a program that accepts a sentence and calculate the number of letters and digits.\n",
    "Suppose the following input is supplied to the program:\n",
    "\n",
    "`hello world! 123`\n",
    "Then, the output should be:\n",
    "\n",
    "```\n",
    "LETTERS 10\n",
    "DIGITS 3\n",
    "```"
   ]
  },
  {
   "cell_type": "code",
   "execution_count": 5,
   "metadata": {
    "collapsed": true
   },
   "outputs": [],
   "source": [
    "def calculate_digit_letter(sentence):\n",
    "    num_digit = 0\n",
    "    num_letter = 0\n",
    "    for schar in sentence:\n",
    "        if schar.isdigit():\n",
    "            num_digit += 1\n",
    "        elif schar.isalpha():\n",
    "            num_letter += 1\n",
    "        else:\n",
    "            pass\n",
    "    print 'Letters', num_letter\n",
    "    print 'Digits', num_digit"
   ]
  },
  {
   "cell_type": "code",
   "execution_count": 6,
   "metadata": {},
   "outputs": [
    {
     "name": "stdout",
     "output_type": "stream",
     "text": [
      "Letters 10\n",
      "Digits 3\n"
     ]
    }
   ],
   "source": [
    "calculate_digit_letter('hello world! 123')"
   ]
  },
  {
   "cell_type": "markdown",
   "metadata": {},
   "source": [
    "# 4.\n",
    "Write a program that computes the net amount of a bank account based a transaction log from console input. The transaction log format is shown as following:\n",
    "```\n",
    "D 100\n",
    "W 200\n",
    "```\n",
    "where D means deposit while W means withdrawal.\n",
    "Suppose the following input is supplied to the program:\n",
    "```\n",
    "D 300\n",
    "D 300\n",
    "W 200\n",
    "D 100\n",
    "```\n",
    "Then, the output should be:\n",
    "500"
   ]
  },
  {
   "cell_type": "markdown",
   "metadata": {},
   "source": [
    "# 5.\n",
    "Question:\n",
    "A website requires the users to input username and password to register. Write a program to check the validity of password input by users.\n",
    "\n",
    "Following are the criteria for checking the password:\n",
    "```\n",
    "1. At least 1 letter between [a-z]\n",
    "2. At least 1 number between [0-9]\n",
    "1. At least 1 letter between [A-Z]\n",
    "3. At least 1 character from [$#@]\n",
    "4. Minimum length of transaction password: 6\n",
    "5. Maximum length of transaction password: 12\n",
    "```\n",
    "\n",
    "Example:\n",
    "\n",
    "Input to the program:\n",
    "\n",
    "`ABd1234@1`\n",
    "\n",
    "The output should be `Strong Password`\n",
    "\n",
    "Whereas for inputs like:\n",
    "\n",
    "`a F1#`\n",
    "`2w3E*`\n",
    "`2We3345`\n",
    "\n",
    "The output should be `Weak Password`\n"
   ]
  }
 ],
 "metadata": {
  "anaconda-cloud": {},
  "kernelspec": {
   "display_name": "Python 2",
   "language": "python",
   "name": "python2"
  },
  "language_info": {
   "codemirror_mode": {
    "name": "ipython",
    "version": 2
   },
   "file_extension": ".py",
   "mimetype": "text/x-python",
   "name": "python",
   "nbconvert_exporter": "python",
   "pygments_lexer": "ipython2",
   "version": "2.7.6"
  }
 },
 "nbformat": 4,
 "nbformat_minor": 1
}
