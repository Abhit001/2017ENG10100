{
 "cells": [
  {
   "cell_type": "markdown",
   "metadata": {},
   "source": [
    "## ENGR101\n",
    "## 01 - 00 Introduction to Python\n",
    "In this introductory module we will discuss the basic semantics of the language and get our hands dirty by actually typing and executing the code blocks.\n",
    "> ##### Remeber:\n",
    "> - To run a cell, you can press `Shift+Enter` (to execute and go to next cell) or `Ctrl+Enter` (to execute and stay on the same cell).\n",
    "> - To add an empty cell, press `Esc` to get out of edit mode and press either `b` key (to add it after the current cell) or `a` key (to add it before the current cell). \n",
    "> - You can make edits to the code and play around with it.\n"
   ]
  },
  {
   "cell_type": "markdown",
   "metadata": {},
   "source": [
    "Python has following 6 built-in Data-Types:\n",
    "\n",
    "| Type     | Description           | Example |\n",
    "|----------|-----------------------|---------|\n",
    "| int      | Integer values        | 123     |\n",
    "| float    | Floating point values | 10.12   |\n",
    "| complex  | Complex values        | 1 + 3j  |\n",
    "| bool     | Boolean values        | True    |\n",
    "| str      | String values         | \"Hello\" |\n",
    "| NoneType | None value            | None    |"
   ]
  },
  {
   "cell_type": "code",
   "execution_count": 5,
   "metadata": {
    "collapsed": false
   },
   "outputs": [
    {
     "data": {
      "text/plain": [
       "NoneType"
      ]
     },
     "execution_count": 5,
     "metadata": {},
     "output_type": "execute_result"
    }
   ],
   "source": [
    "a = None\n",
    "type(a)"
   ]
  },
  {
   "cell_type": "markdown",
   "metadata": {},
   "source": [
    "and 4 Data-Structures\n",
    "\n",
    "| Type  | Description                           | Example              |\n",
    "|-------|---------------------------------------|----------------------|\n",
    "| list  | Ordered collection of values          | [1, 'abc', 3, 1]     |\n",
    "| set   | Unordered collection of unique values | {1, 'abc', 3}        |\n",
    "| tuple | Immutable Ordered collection          | (1, 'abc', 3)        |\n",
    "| dict  | Unordered key. value pairs            | {'abc': 1, 'def': 2} |"
   ]
  },
  {
   "cell_type": "code",
   "execution_count": 6,
   "metadata": {
    "collapsed": true
   },
   "outputs": [],
   "source": [
    "b = [1,2,3,3]"
   ]
  },
  {
   "cell_type": "code",
   "execution_count": 8,
   "metadata": {
    "collapsed": false
   },
   "outputs": [
    {
     "name": "stdout",
     "output_type": "stream",
     "text": [
      "set([1, 2, 3])\n"
     ]
    }
   ],
   "source": [
    "b = set(b)\n",
    "print b"
   ]
  },
  {
   "cell_type": "code",
   "execution_count": 9,
   "metadata": {
    "collapsed": true
   },
   "outputs": [],
   "source": [
    "c = (1,2)"
   ]
  },
  {
   "cell_type": "code",
   "execution_count": 12,
   "metadata": {
    "collapsed": false
   },
   "outputs": [
    {
     "ename": "TypeError",
     "evalue": "'tuple' object does not support item assignment",
     "output_type": "error",
     "traceback": [
      "\u001b[0;31m---------------------------------------------------------------------------\u001b[0m",
      "\u001b[0;31mTypeError\u001b[0m                                 Traceback (most recent call last)",
      "\u001b[0;32m<ipython-input-12-fb1ba9ab6eac>\u001b[0m in \u001b[0;36m<module>\u001b[0;34m()\u001b[0m\n\u001b[0;32m----> 1\u001b[0;31m \u001b[0mc\u001b[0m\u001b[0;34m[\u001b[0m\u001b[0;36m1\u001b[0m\u001b[0;34m]\u001b[0m \u001b[0;34m=\u001b[0m\u001b[0;36m4\u001b[0m\u001b[0;34m\u001b[0m\u001b[0m\n\u001b[0m",
      "\u001b[0;31mTypeError\u001b[0m: 'tuple' object does not support item assignment"
     ]
    }
   ],
   "source": [
    "c[1] =4"
   ]
  },
  {
   "cell_type": "markdown",
   "metadata": {},
   "source": [
    "In this section we will learn about the above Python's built-in Data-Types and Data-Structures."
   ]
  }
 ],
 "metadata": {
  "anaconda-cloud": {},
  "kernelspec": {
   "display_name": "Python [IR]",
   "language": "python",
   "name": "Python [IR]"
  },
  "language_info": {
   "codemirror_mode": {
    "name": "ipython",
    "version": 2
   },
   "file_extension": ".py",
   "mimetype": "text/x-python",
   "name": "python",
   "nbconvert_exporter": "python",
   "pygments_lexer": "ipython2",
   "version": "2.7.13"
  }
 },
 "nbformat": 4,
 "nbformat_minor": 2
}
