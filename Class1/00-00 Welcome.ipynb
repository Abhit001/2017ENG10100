{
 "cells": [
  {
   "cell_type": "markdown",
   "metadata": {},
   "source": [
    "# Welcome"
   ]
  },
  {
   "cell_type": "markdown",
   "metadata": {},
   "source": [
    "# https://github.com/clairehxq/2017ENG10100"
   ]
  },
  {
   "cell_type": "markdown",
   "metadata": {},
   "source": [
    "to ENGR10100. This module aims to familarize you with objective oriented programming -- Python. \n",
    "With this in mind, I would encourage you to think of programming not as a new domain of knowledge to learn, but a new set of skills that you can apply within your current area of expertise. By the end of this module, I hope to:\n",
    "- Get you familiar with Python programming language (that will be used throughout your undergrad studies)"
   ]
  },
  {
   "cell_type": "markdown",
   "metadata": {},
   "source": [
    "# Why Python?\n",
    "Python is the language of the Python Interpreter - better readability, fewer lines of code, object-oriented, imperative, functional programming with procedural styles. It has gained increasing popularity over the years and is the acclaimed the most used language for machine learning. \n",
    "For Python starters - be prepared for a lot of errors: Syntax errors, ValueErrors, TypeErrors, you name it. You'll get better. Practice is key."
   ]
  },
  {
   "cell_type": "markdown",
   "metadata": {},
   "source": [
    "###  *Basic bash commands that are specifically handy:*  \n",
    "In Jupyter Notebook bash commands can be run with exclamation marks. If you're running in terminal, just ignore the exclamation marks.\n",
    "\n",
    "- https://access.redhat.com/documentation/en-US/Red_Hat_Enterprise_Linux/4/html/Step_by_Step_Guide/ap-doslinux.html"
   ]
  },
  {
   "cell_type": "code",
   "execution_count": 5,
   "metadata": {
    "collapsed": false
   },
   "outputs": [
    {
     "ename": "SyntaxError",
     "evalue": "invalid syntax (<ipython-input-5-c237da2a1577>, line 1)",
     "output_type": "error",
     "traceback": [
      "\u001b[0;36m  File \u001b[0;32m\"<ipython-input-5-c237da2a1577>\"\u001b[0;36m, line \u001b[0;32m1\u001b[0m\n\u001b[0;31m    copy Untitled1.ipynb 1.ipynb\u001b[0m\n\u001b[0m                 ^\u001b[0m\n\u001b[0;31mSyntaxError\u001b[0m\u001b[0;31m:\u001b[0m invalid syntax\n"
     ]
    }
   ],
   "source": [
    "copy Untitled1.ipynb 1.ipynb"
   ]
  },
  {
   "cell_type": "code",
   "execution_count": 1,
   "metadata": {
    "collapsed": false
   },
   "outputs": [
    {
     "name": "stdout",
     "output_type": "stream",
     "text": [
      "/Users/macbook/GH/2017ENG10100/Class1\r\n"
     ]
    }
   ],
   "source": [
    "!pwd #present working directory"
   ]
  },
  {
   "cell_type": "code",
   "execution_count": 4,
   "metadata": {
    "collapsed": true
   },
   "outputs": [],
   "source": [
    "!cd .. #go back to parent directory in hierarchy"
   ]
  },
  {
   "cell_type": "code",
   "execution_count": 5,
   "metadata": {
    "collapsed": false,
    "scrolled": true
   },
   "outputs": [
    {
     "name": "stdout",
     "output_type": "stream",
     "text": [
      "/home/claireh/Desktop/ENGR10100/ucsl17/notebooks\r\n"
     ]
    }
   ],
   "source": [
    "!pwd"
   ]
  },
  {
   "cell_type": "code",
   "execution_count": 7,
   "metadata": {
    "collapsed": false
   },
   "outputs": [
    {
     "name": "stdout",
     "output_type": "stream",
     "text": [
      "00-00 Welcome.ipynb\r\n",
      "00-01 Accessing Jupyter Notebook.ipynb\r\n",
      "00-02 Introduction to Notebook and beyond.ipynb\r\n"
     ]
    }
   ],
   "source": [
    "!ls 00* #list all contents under the directory"
   ]
  },
  {
   "cell_type": "code",
   "execution_count": null,
   "metadata": {
    "collapsed": true
   },
   "outputs": [],
   "source": [
    "#!mkdir #make directory\n",
    "#!cp\n",
    "#touch\n",
    "#!rm"
   ]
  },
  {
   "cell_type": "markdown",
   "metadata": {},
   "source": [
    "# Set up Environment"
   ]
  },
  {
   "cell_type": "markdown",
   "metadata": {},
   "source": [
    "In Ubantu, Python should be installed by default. On Windows, Python is installed to a directory with its version number embedded, like C:\\Python27\\   \n",
    "Although, you should install ipython & jupyter notebook on your local machine too:  \n",
    "Download from Anaconda:\n",
    "#### https://www.anaconda.com/download/ important: choose the python 2.7 one\n",
    "#### https://docs.continuum.io/anaconda/install/mac-os#macos-graphical-install graphical tutorial\n",
    "#### http://jupyter.readthedocs.io/en/latest/install.html \n",
    "I'd recommend installing via Anaconda.\n",
    "\n",
    "# Windows tutorial\n",
    "https://codeburst.io/install-python-on-windows-anaconda-c63c7c3d1444\n",
    "\n",
    "# Mac tutorial \n",
    "https://mas-dse.github.io/startup/anaconda-macosx-install/"
   ]
  },
  {
   "cell_type": "markdown",
   "metadata": {},
   "source": [
    "choose your operating system version: https://repo.continuum.io/archive/"
   ]
  },
  {
   "cell_type": "markdown",
   "metadata": {},
   "source": [
    "If you're running on a os system, type these in command line. If you're running other OS, replace the Anaconda2-4.4.0-Linux-x86_64.sh with corresponding filename.\n",
    "#### Linux: go to terminal and type in:\n",
    "`wget https://repo.continuum.io/archive/Anaconda2-4.4.0-Linux-x86_64.sh` \n",
    "#### OS:  \n",
    "in bash:\n",
    "`~/Downloads/Anaconda2-4.4.0-MacOSX-x86_64.sh` installing  "
   ]
  },
  {
   "cell_type": "markdown",
   "metadata": {},
   "source": [
    "#### Check Python Version: We're using Python 2.7"
   ]
  },
  {
   "cell_type": "code",
   "execution_count": 3,
   "metadata": {
    "collapsed": false,
    "scrolled": true
   },
   "outputs": [
    {
     "name": "stdout",
     "output_type": "stream",
     "text": [
      "Python 2.7.6\r\n"
     ]
    }
   ],
   "source": [
    "!python --version"
   ]
  },
  {
   "cell_type": "markdown",
   "metadata": {},
   "source": [
    "#### Before starting, you might also want to check out Jupyter Notebook Shortcut:\n",
    "https://www.dataquest.io/blog/jupyter-notebook-tips-tricks-shortcuts/  \n",
    "##### PEP 8 Style guide:  \n",
    "https://www.python.org/dev/peps/pep-0008/"
   ]
  },
  {
   "cell_type": "markdown",
   "metadata": {},
   "source": [
    "# Outline"
   ]
  },
  {
   "cell_type": "markdown",
   "metadata": {},
   "source": [
    "### Introduction to Notebook and beyond\n",
    "This section contains information about setting up the environmeny. We will then familiarize ourselves with the simple-but-important terminologies like kernel, jupyter notebook etc.. Finally, we will be introduced to the basic Python syntax, concept of whitespaces, using comments and general [`PEP8`](https://www.python.org/dev/peps/pep-0008/) styling guidelines which we will follow throughout our Lab (and something you should follow, always.)."
   ]
  },
  {
   "cell_type": "markdown",
   "metadata": {},
   "source": [
    "### Introduction to Python\n",
    "This is where we will discuss about Python variables and understand how to store values and perform operation on the variables. We will also look into built in Types like `str`ing, `int`eger, etc. We will then learn about `control flow` using which we can alter the flow/ execution of the code."
   ]
  },
  {
   "cell_type": "markdown",
   "metadata": {},
   "source": [
    "### Python in Practice\n",
    "Once you get familiar with Python's syntax and are comfortable with performing simple operations, we will learn about Python's different Data Strucutures. We will then look at creating and using Functions which will help make your code more readable and reusable. Finally, we will learn about syntax errors & exceptions and how to handle them."
   ]
  },
  {
   "cell_type": "markdown",
   "metadata": {},
   "source": [
    "_At this stage you must be comfortable in writing basic python code that involves using built-in/ custom functions for performing certain operation on different variables and data structures. This is a good time to go through the previous 2 sections.. just to be sure!_\n",
    "\n",
    "_Starting with the next section, you will be applying the knowledge you learnt in the above sections for performing efficient computation on large datasets_"
   ]
  },
  {
   "cell_type": "markdown",
   "metadata": {},
   "source": [
    "### Introduction to Numpy\n",
    "Numpy (Numerical Python) is the core of almost entire data science ecosystem in Python. The time that you will be spending in learning the core concepts of Python will be valuable for performing data(agnostic) analysis. In this section we will learn some basic concepts on single and multi-dimensional `arrays` and understand the differnce between Python's built in types and Numpy arrays. We will perform numerical operations on Numpy arrays and take a look at Numpy's universal functions. Since we will be dealing with large datasets, we will also cover the concepts of indexing and slicing numpy arrays and some fancy (and fast) ways of getting a chunk of data from a huge dataset."
   ]
  },
  {
   "cell_type": "markdown",
   "metadata": {},
   "source": [
    "### Pandas\n",
    "Getting back onto learning the tools from Python's data science ecosystem.. in this section we will take a look at Pandas Series and Pandas Dataframes, two data structures that are very well organized and efficient implementation of single and multi-dimensional arrays sporting heterogeneous types and/or missing data. I know it can be mouthful but wait till we look into the implementation of Pandas dataframes. Instead of a traditional way of introducing the functions and showing the implemetation example, this time we will get our hands dirty with a real-world dataset and try to answer the questions as _data scientists_, unraveling the mystery of Pandas!"
   ]
  },
  {
   "cell_type": "markdown",
   "metadata": {},
   "source": [
    "## For future studies, I'd also recommend checking out GitHub(for project building) & Basic Bash commands"
   ]
  }
 ],
 "metadata": {
  "anaconda-cloud": {},
  "kernelspec": {
   "display_name": "Python [Root]",
   "language": "python",
   "name": "Python [Root]"
  },
  "language_info": {
   "codemirror_mode": {
    "name": "ipython",
    "version": 2
   },
   "file_extension": ".py",
   "mimetype": "text/x-python",
   "name": "python",
   "nbconvert_exporter": "python",
   "pygments_lexer": "ipython2",
   "version": "2.7.13"
  }
 },
 "nbformat": 4,
 "nbformat_minor": 1
}
