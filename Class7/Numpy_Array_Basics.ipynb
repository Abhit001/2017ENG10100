{
 "cells": [
  {
   "cell_type": "markdown",
   "metadata": {},
   "source": [
    "## Numpy Array Basics\n",
    "\n",
    "Numpy's main object is the homogeneous multidimensional array. Numpy's array class is called `ndarray`. It is a table of numbers, indexed by a `tuple` of positive integers. In numpy dimensions are called as axes. The number of axes is known as rank. \n",
    "\n",
    "Numpy arrays are similar to Python lists with few differences such as: \n",
    " - All the elements in a numpy array must be of same datatype. \n",
    " - You can't change the size of a numpy array (at least not without making a full copy.. we'll see this a little later)\n",
    " - Numpy arrays are easy to construct and to manipulate.\n",
    " - Numpy arrays support “vectorized” operations like elementwise addition and multiplication without having to run a `for` loop explicitly in python.\n",
    " \n",
    "We'll cover basic array manipulations here:\n",
    "- *Attributes of arrays*: Determining the size, shape, memory consumption, and data types of arrays\n",
    "- *Creating arrays*: Different ways of creating the Arrays\n",
    "- *Indexing of arrays*: Getting and setting the value of individual array elements\n",
    "- *Slicing of arrays*: Getting and setting smaller subarrays within a larger array\n",
    "- *Reshaping of arrays*: Changing the shape of a given array\n",
    "- *Joining and splitting of arrays*: Combining multiple arrays into one, and splitting one array into many\n",
    "\n",
    "### 03 - 01.01 Attributes of Arrays"
   ]
  },
  {
   "cell_type": "code",
   "execution_count": 1,
   "metadata": {
    "collapsed": false
   },
   "outputs": [
    {
     "name": "stdout",
     "output_type": "stream",
     "text": [
      "Type:  <type 'numpy.ndarray'>\n",
      "Shape:  (4,)\n",
      "Dimension:  1\n",
      "Itemsize:  8\n",
      "Size:  4\n"
     ]
    }
   ],
   "source": [
    "import numpy as np\n",
    "# Single dimensional Array from a list\n",
    "arr = np.array([1, 2, 3, 4], dtype=float)\n",
    "print 'Type: ',type(arr)\n",
    "print 'Shape: ',arr.shape\n",
    "print 'Dimension: ',arr.ndim\n",
    "print 'Itemsize: ',arr.itemsize\n",
    "print 'Size: ',arr.size"
   ]
  },
  {
   "cell_type": "code",
   "execution_count": 2,
   "metadata": {
    "collapsed": false
   },
   "outputs": [
    {
     "name": "stdout",
     "output_type": "stream",
     "text": [
      " Type:  <type 'numpy.ndarray'>\n",
      "Shape:  (2, 4)\n",
      "Dimension:  2\n",
      "Itemsize:  8\n",
      "Size:  8\n"
     ]
    }
   ],
   "source": [
    "import numpy as np\n",
    "# Two dimensional Array from a list\n",
    "# Notice the difference between shape and size\n",
    "arr2 = np.array([[1, 2, 3, 4],[0, 0, 0, 0]], dtype=float)\n",
    "print 'Type: ',type(arr2)\n",
    "print 'Shape: ',arr2.shape\n",
    "print 'Dimension: ',arr2.ndim\n",
    "print 'Itemsize: ',arr2.itemsize\n",
    "print 'Size: ',arr2.size"
   ]
  },
  {
   "cell_type": "markdown",
   "metadata": {},
   "source": [
    "The above is one of the many ways in which a numpy array can be created. The `np.array()` in above case takes two arguments: the `list` to be converted to numpy array and the `datatype` (`dtype`) of **every** member of the list. \n",
    "\n",
    "There are many different attributes of `ndarray` class and by now you should be able to understand how to access those attributes and get help for them (Hint: `<TAB>` completion). \n",
    "\n",
    "Let's understand at some of the attributes that we printer above.\n",
    "\n",
    "##### ndarray.ndim\n",
    "It is the number of axes or dimensions of the array.\n",
    "\n",
    "##### ndarray.shape\n",
    "It is the dimension of the array. This is a tuple of integers indicating the size of the array in each dimension. For matrix with n rows and m columns, the shape will be (m, n). The shape attribute is thus a tuple. For single dimensional arrays, the second element of the tuple will be None (as it is on our first case).\n",
    "\n",
    "##### ndarray.dtype\n",
    "It is an object describing the type of the elements in the array. Remember that all the elements need to be of same datatype in a numpy array. Additionally numpy provides its own int16, int32, float64 and so on.\n",
    "\n",
    "##### ndarray.data\n",
    "This is the buffer containing the actual elements of the array. Normally this attribute is not used as numpy offers many fancy indexing facilities.\n",
    "\n",
    "Let's take a look at another example:"
   ]
  },
  {
   "cell_type": "code",
   "execution_count": 4,
   "metadata": {
    "collapsed": false
   },
   "outputs": [
    {
     "name": "stdout",
     "output_type": "stream",
     "text": [
      "Datatype:  |S32\n"
     ]
    }
   ],
   "source": [
    "# Elements have to be of same datatype\n",
    "arr = np.array([1, 2.0, \"ucsl\"])\n",
    "print \"Datatype: \", arr.dtype"
   ]
  },
  {
   "cell_type": "markdown",
   "metadata": {},
   "source": [
    "Since we did not pass the `dtype` parameter, Numpy saw that there are mixed types and it converts the datatype of all the elements to type `U`nicode`32` (or `S`tring`32` if you are using Python2). \n",
    "\n",
    "> To know all the datatypes supported by Numpy, you can type\n",
    "```ipython\n",
    "In [2]: np.typeDict\n",
    "```\n",
    "and check the output\n",
    "\n",
    "If we would've passed the `dtype` as `float` or anything other than a type of `string` or `unicode`, we would've recevied a value error. (Try it!)"
   ]
  },
  {
   "cell_type": "code",
   "execution_count": 5,
   "metadata": {
    "collapsed": false,
    "scrolled": false
   },
   "outputs": [
    {
     "data": {
      "text/plain": [
       "{0: numpy.bool_,\n",
       " 1: numpy.int8,\n",
       " 2: numpy.uint8,\n",
       " 3: numpy.int16,\n",
       " 4: numpy.uint16,\n",
       " 5: numpy.int32,\n",
       " 6: numpy.uint32,\n",
       " 7: numpy.int64,\n",
       " 8: numpy.uint64,\n",
       " 9: numpy.int64,\n",
       " 10: numpy.uint64,\n",
       " 11: numpy.float32,\n",
       " 12: numpy.float64,\n",
       " 13: numpy.float128,\n",
       " 14: numpy.complex64,\n",
       " 15: numpy.complex128,\n",
       " 16: numpy.complex256,\n",
       " 17: numpy.object_,\n",
       " 18: numpy.string_,\n",
       " 19: numpy.unicode_,\n",
       " 20: numpy.void,\n",
       " 21: numpy.datetime64,\n",
       " 22: numpy.timedelta64,\n",
       " 23: numpy.float16,\n",
       " '?': numpy.bool_,\n",
       " 'B': numpy.uint8,\n",
       " 'Bool': numpy.bool_,\n",
       " 'Complex128': numpy.complex256,\n",
       " 'Complex32': numpy.complex64,\n",
       " 'Complex64': numpy.complex128,\n",
       " 'D': numpy.complex128,\n",
       " 'Datetime64': numpy.datetime64,\n",
       " 'F': numpy.complex64,\n",
       " 'Float128': numpy.float128,\n",
       " 'Float16': numpy.float16,\n",
       " 'Float32': numpy.float32,\n",
       " 'Float64': numpy.float64,\n",
       " 'G': numpy.complex256,\n",
       " 'H': numpy.uint16,\n",
       " 'I': numpy.uint32,\n",
       " 'Int16': numpy.int16,\n",
       " 'Int32': numpy.int32,\n",
       " 'Int64': numpy.int64,\n",
       " 'Int8': numpy.int8,\n",
       " 'L': numpy.uint64,\n",
       " 'M': numpy.datetime64,\n",
       " 'M8': numpy.datetime64,\n",
       " 'O': numpy.object_,\n",
       " 'Object0': numpy.object_,\n",
       " 'P': numpy.uint64,\n",
       " 'Q': numpy.uint64,\n",
       " 'S': numpy.string_,\n",
       " 'String0': numpy.string_,\n",
       " 'Timedelta64': numpy.timedelta64,\n",
       " 'U': numpy.unicode_,\n",
       " 'UInt16': numpy.uint16,\n",
       " 'UInt32': numpy.uint32,\n",
       " 'UInt64': numpy.uint64,\n",
       " 'UInt8': numpy.uint8,\n",
       " 'Unicode0': numpy.unicode_,\n",
       " 'V': numpy.void,\n",
       " 'Void0': numpy.void,\n",
       " 'a': numpy.string_,\n",
       " 'b': numpy.int8,\n",
       " 'b1': numpy.bool_,\n",
       " 'bool': numpy.bool_,\n",
       " 'bool8': numpy.bool_,\n",
       " 'bool_': numpy.bool_,\n",
       " 'byte': numpy.int8,\n",
       " 'bytes_': numpy.string_,\n",
       " 'c16': numpy.complex128,\n",
       " 'c32': numpy.complex256,\n",
       " 'c8': numpy.complex64,\n",
       " 'cdouble': numpy.complex128,\n",
       " 'cfloat': numpy.complex128,\n",
       " 'clongdouble': numpy.complex256,\n",
       " 'clongfloat': numpy.complex256,\n",
       " 'complex': numpy.complex128,\n",
       " 'complex128': numpy.complex128,\n",
       " 'complex256': numpy.complex256,\n",
       " 'complex64': numpy.complex64,\n",
       " 'complex_': numpy.complex128,\n",
       " 'csingle': numpy.complex64,\n",
       " 'd': numpy.float64,\n",
       " 'datetime64': numpy.datetime64,\n",
       " 'double': numpy.float64,\n",
       " 'e': numpy.float16,\n",
       " 'f': numpy.float32,\n",
       " 'f16': numpy.float128,\n",
       " 'f2': numpy.float16,\n",
       " 'f4': numpy.float32,\n",
       " 'f8': numpy.float64,\n",
       " 'float': numpy.float64,\n",
       " 'float128': numpy.float128,\n",
       " 'float16': numpy.float16,\n",
       " 'float32': numpy.float32,\n",
       " 'float64': numpy.float64,\n",
       " 'float_': numpy.float64,\n",
       " 'g': numpy.float128,\n",
       " 'h': numpy.int16,\n",
       " 'half': numpy.float16,\n",
       " 'i': numpy.int32,\n",
       " 'i1': numpy.int8,\n",
       " 'i2': numpy.int16,\n",
       " 'i4': numpy.int32,\n",
       " 'i8': numpy.int64,\n",
       " 'int': numpy.int64,\n",
       " 'int0': numpy.int64,\n",
       " 'int16': numpy.int16,\n",
       " 'int32': numpy.int32,\n",
       " 'int64': numpy.int64,\n",
       " 'int8': numpy.int8,\n",
       " 'int_': numpy.int64,\n",
       " 'intc': numpy.int32,\n",
       " 'intp': numpy.int64,\n",
       " 'l': numpy.int64,\n",
       " 'longcomplex': numpy.complex256,\n",
       " 'longdouble': numpy.float128,\n",
       " 'longfloat': numpy.float128,\n",
       " 'longlong': numpy.int64,\n",
       " 'm': numpy.timedelta64,\n",
       " 'm8': numpy.timedelta64,\n",
       " 'object': numpy.object_,\n",
       " 'object0': numpy.object_,\n",
       " 'object_': numpy.object_,\n",
       " 'p': numpy.int64,\n",
       " 'q': numpy.int64,\n",
       " 'short': numpy.int16,\n",
       " 'single': numpy.float32,\n",
       " 'singlecomplex': numpy.complex64,\n",
       " 'str': numpy.string_,\n",
       " 'str_': numpy.string_,\n",
       " 'string': numpy.string_,\n",
       " 'string0': numpy.string_,\n",
       " 'string_': numpy.string_,\n",
       " 'timedelta64': numpy.timedelta64,\n",
       " 'u1': numpy.uint8,\n",
       " 'u2': numpy.uint16,\n",
       " 'u4': numpy.uint32,\n",
       " 'u8': numpy.uint64,\n",
       " 'ubyte': numpy.uint8,\n",
       " 'uint': numpy.uint64,\n",
       " 'uint0': numpy.uint64,\n",
       " 'uint16': numpy.uint16,\n",
       " 'uint32': numpy.uint32,\n",
       " 'uint64': numpy.uint64,\n",
       " 'uint8': numpy.uint8,\n",
       " 'uintc': numpy.uint32,\n",
       " 'uintp': numpy.uint64,\n",
       " 'ulonglong': numpy.uint64,\n",
       " 'unicode': numpy.unicode_,\n",
       " 'unicode0': numpy.unicode_,\n",
       " 'unicode_': numpy.unicode_,\n",
       " 'ushort': numpy.uint16,\n",
       " 'void': numpy.void,\n",
       " 'void0': numpy.void}"
      ]
     },
     "execution_count": 5,
     "metadata": {},
     "output_type": "execute_result"
    }
   ],
   "source": [
    "np.typeDict"
   ]
  },
  {
   "cell_type": "markdown",
   "metadata": {
    "collapsed": true
   },
   "source": [
    "### 03 - 01.02 Creating Arrays\n",
    "There are many different ways in which a numpy array can be created. We saw one in the above example. Lets look at some other ways of creating arrays"
   ]
  },
  {
   "cell_type": "code",
   "execution_count": 13,
   "metadata": {
    "collapsed": false
   },
   "outputs": [
    {
     "name": "stdout",
     "output_type": "stream",
     "text": [
      "arange() with float dtype: \n",
      "[ 0.  1.  2.  3.  4.]\n",
      "\n",
      " linspace(): \n",
      "[ 0.  2.  4.  6.  8.]\n",
      "\n",
      " ones(): \n",
      "[[ 1.  1.  1.]\n",
      " [ 1.  1.  1.]]\n",
      "\n",
      " zeros(): \n",
      "[[ 0.  0.  0.]\n",
      " [ 0.  0.  0.]]\n",
      "\n",
      " Empty: \n",
      "[[ 1.  2.  3.  4.]\n",
      " [ 0.  0.  0.  0.]]\n",
      "\n",
      " Ones_like(): \n",
      "[ 1.  1.  1.  1.  1.]\n",
      "\n",
      " Diagonal array: \n",
      "[[ 0.  0.  0.  0.  0.]\n",
      " [ 0.  1.  0.  0.  0.]\n",
      " [ 0.  0.  2.  0.  0.]\n",
      " [ 0.  0.  0.  3.  0.]\n",
      " [ 0.  0.  0.  0.  4.]]\n"
     ]
    }
   ],
   "source": [
    "arr1 = np.arange(5, dtype=float)\n",
    "print 'arange() with float dtype: \\n',arr1\n",
    "# Divide the range between start and stop in equal `num` intervals\n",
    "arr2 = np.linspace(0, 8, num=5) #dtype = int\n",
    "print '\\n linspace(): \\n', arr2\n",
    "arr3 = np.ones((2, 3), dtype=float)\n",
    "print '\\n ones(): \\n',arr3\n",
    "arr4 = np.zeros((2,3), dtype=float)\n",
    "print '\\n zeros(): \\n',arr4\n",
    "arr5 = np.empty((2, 4))\n",
    "print '\\n Empty: \\n',arr5  # Your output may be different..\n",
    "arr6 = np.ones_like(arr1)\n",
    "print '\\n Ones_like(): \\n',arr6\n",
    "arr7 = np.diag(arr1)\n",
    "print '\\n Diagonal array: \\n',arr7"
   ]
  },
  {
   "cell_type": "markdown",
   "metadata": {},
   "source": [
    "#### np.arange()\n",
    "\n",
    "is the same as the range function that we used previously. This method will however return a numpy array.\n",
    "\n",
    "#### np.zeros() and np.ones()\n",
    "\n",
    "as the name suggests, generate new arrays of specified dimensions filled with these values. These are most commonly used functions to create new arrays.\n",
    "\n",
    "#### np.empty()\n",
    "\n",
    "This function creates an array whose initial content is random and depends on the state of the memory. If not specified, the data type of the created array is float64\n",
    "\n",
    "#### np.ones_like()  , np.zeros_like() and np.empty_like()\n",
    "\n",
    "These functions create a new array with the same dimensions and type as the existing one but with the values as either ones or zeros or random value.\n",
    "\n",
    "#### np.diag()\n",
    "\n",
    "As the name suggests, this will construct a diagonal array\n",
    "\n",
    "Let's take a look at an example for creating multi-dimensional array"
   ]
  },
  {
   "cell_type": "code",
   "execution_count": 26,
   "metadata": {
    "collapsed": false
   },
   "outputs": [
    {
     "name": "stdout",
     "output_type": "stream",
     "text": [
      "2D array: \n",
      "[[ 0  1  2  3  4  5  6  7  8]\n",
      " [ 9 10 11 12 13 14 15 16 17]\n",
      " [18 19 20 21 22 23 24 25 26]]\n",
      "\n",
      "3D array: \n",
      "[[[ 0  1  2]\n",
      "  [ 3  4  5]\n",
      "  [ 6  7  8]]\n",
      "\n",
      " [[ 9 10 11]\n",
      "  [12 13 14]\n",
      "  [15 16 17]]\n",
      "\n",
      " [[18 19 20]\n",
      "  [21 22 23]\n",
      "  [24 25 26]]]\n",
      "\n"
     ]
    }
   ],
   "source": [
    "arr2d = np.arange(27).reshape(3, 9)\n",
    "print \"2D array: \\n{}\\n\".format(arr2d) \n",
    "arr3d = np.arange(27).reshape(3,3,3)\n",
    "print \"3D array: \\n{}\\n\".format(arr3d)"
   ]
  },
  {
   "cell_type": "markdown",
   "metadata": {},
   "source": [
    "Numpy displays the arrays in a similar way to nested lists but with the following layout:\n",
    "- the last axis is printed from left to right\n",
    "- the second to last axis is printed from top to bottom.\n",
    "- the rest rest are also printed from top to bottom with each slice separated from the next by an empty line\n",
    "Simply put, single dimensional array are printed as rows, bi dimensional and multi-dimensional are printed as matrices and as lists of matrices respectively.\n",
    "\n",
    "> We will look at reshaping of arrays later in this module"
   ]
  },
  {
   "cell_type": "markdown",
   "metadata": {},
   "source": [
    "### 03 - 01.03 Array Indexing\n",
    "Numpy arrays are indexed in the same way as lists are. Accessing the elements for single dimensional array is equivalent to accessing elements in a list"
   ]
  },
  {
   "cell_type": "code",
   "execution_count": 27,
   "metadata": {
    "collapsed": false
   },
   "outputs": [
    {
     "name": "stdout",
     "output_type": "stream",
     "text": [
      "7\n"
     ]
    }
   ],
   "source": [
    "arr = np.arange(3, 10)\n",
    "print arr[4]"
   ]
  },
  {
   "cell_type": "markdown",
   "metadata": {},
   "source": [
    "You can also use negative indexing like we did for lists"
   ]
  },
  {
   "cell_type": "code",
   "execution_count": 30,
   "metadata": {
    "collapsed": false
   },
   "outputs": [
    {
     "name": "stdout",
     "output_type": "stream",
     "text": [
      "7\n"
     ]
    }
   ],
   "source": [
    "print arr[-3]"
   ]
  },
  {
   "cell_type": "markdown",
   "metadata": {},
   "source": [
    "Multi-dimensional array items can be accessed using comma-separated tuple of indexes"
   ]
  },
  {
   "cell_type": "code",
   "execution_count": 33,
   "metadata": {
    "collapsed": false
   },
   "outputs": [
    {
     "name": "stdout",
     "output_type": "stream",
     "text": [
      "3D array: \n",
      "[[[ 0  1  2]\n",
      "  [ 3  4  5]\n",
      "  [ 6  7  8]]\n",
      "\n",
      " [[ 9 10 11]\n",
      "  [12 13 14]\n",
      "  [15 16 17]]\n",
      "\n",
      " [[18 19 20]\n",
      "  [21 22 23]\n",
      "  [24 25 26]]] \n",
      "\n",
      "\n",
      "Element at 2, 1, 0 is: 21\n"
     ]
    }
   ],
   "source": [
    "arr3d = np.arange(27).reshape(3,3,3)\n",
    "dim, row, col = 2, 1, 0\n",
    "end= \"\\n\\n\"\n",
    "print \"3D array: \\n\", arr3d, end\n",
    "print \"Element at {dim}, {row}, {col} is: {val}\".format(dim=dim, \n",
    "                                                        row=row, \n",
    "                                                        col=col, \n",
    "                                                        val=arr3d[dim, row, col])"
   ]
  },
  {
   "cell_type": "markdown",
   "metadata": {},
   "source": [
    "### 03 - 01.04 Array Slicing\n",
    "Slicing extracts the portion of a sequence by specifying a lower and upper bound. The lower bound element is included, but the upper-bound element is not included in slicing. Just like lists, there is a third parameter step which means the strides to be taken between the elements. If any of these are unspecified, they default to the values `start=0, stop=size of dimension, step=1`. Each of these parameters are separated by colons (`:`)"
   ]
  },
  {
   "cell_type": "code",
   "execution_count": 39,
   "metadata": {
    "collapsed": false
   },
   "outputs": [
    {
     "name": "stdout",
     "output_type": "stream",
     "text": [
      "Original Array: \n",
      "[ 0.  2.  4.  6.  8.] \n",
      "\n",
      "\n",
      "arr[:3]:  [ 0.  2.  4.]\n",
      "arr[-5:5:2]:  [ 0.  4.  8.]\n",
      "arr[::2]:  [ 0.  4.  8.]\n",
      "arr[::-1]:  [ 8.  6.  4.  2.  0.]\n",
      "arr[2::-2]:  [ 4.  0.]\n"
     ]
    }
   ],
   "source": [
    "arr = np.linspace(0, 8, num=5)\n",
    "print \"Original Array: \\n\", arr, end\n",
    "# let the slicings begin\n",
    "print \"arr[:3]: \", arr[:3]\n",
    "print \"arr[-5:5:2]: \", arr[-5:5:2]\n",
    "print \"arr[::2]: \", arr[::2]\n",
    "# Reverse the elements\n",
    "print \"arr[::-1]: \", arr[::-1]\n",
    "# Reverse every other array from index 2\n",
    "print \"arr[2::-2]: \", arr[2::-2]"
   ]
  },
  {
   "cell_type": "markdown",
   "metadata": {},
   "source": [
    "For multi-dimensional array, we specify in rows, columns format."
   ]
  },
  {
   "cell_type": "markdown",
   "metadata": {},
   "source": [
    "# Class Exercise\n",
    "1. make an ndarray of size (3,4) named arr\n",
    "2. print arr\n",
    "3. print the first row and the first three columns of arr\n",
    "4. print all rows and the third column of arr\n",
    "5. print all rows and the third column of arr\n",
    "6. print arr in reversed columns and rows "
   ]
  },
  {
   "cell_type": "markdown",
   "metadata": {},
   "source": [
    "Slices are references to the original array in memory. Changing the values in a slice also changes the original array"
   ]
  },
  {
   "cell_type": "code",
   "execution_count": 10,
   "metadata": {
    "collapsed": false
   },
   "outputs": [
    {
     "name": "stdout",
     "output_type": "stream",
     "text": [
      "arr1: \n",
      " [0 1 2 3 4]\n",
      "\n",
      "Sliced array: \n",
      " [3 4]\n",
      "\n",
      "Before changing, arr2[0]: \n",
      " 3\n",
      "\n",
      "After changing arr2[0], arr1: \n",
      " [ 0  1  2 99  4]\n"
     ]
    }
   ],
   "source": [
    "arr1 = np.arange(5)\n",
    "# slice arr1\n",
    "arr2 = arr1[3:5]\n",
    "print(\"arr1: \\n\", arr1, end=\"\\n\\n\")\n",
    "print(\"Sliced array: \\n\", arr2)\n",
    "print('\\nBefore changing, arr2[0]: \\n',arr2[0])\n",
    "# change value for 0th element of the slice\n",
    "arr2[0] = 99\n",
    "print('\\nAfter changing arr2[0], arr1: \\n',arr1)"
   ]
  },
  {
   "cell_type": "markdown",
   "metadata": {},
   "source": [
    "### 03 - 01.05 Reshaping Arrays\n",
    "We have been using `reshape` function to view a one dimensional array as a multi-dimensional array. This nifty method only works if your new array shape matches the size of the original array i.e `size = m x n`\n",
    "\n",
    "One can also row and column elements using `newaxis` method"
   ]
  },
  {
   "cell_type": "code",
   "execution_count": 11,
   "metadata": {
    "collapsed": false
   },
   "outputs": [
    {
     "name": "stdout",
     "output_type": "stream",
     "text": [
      "Original Array: \n",
      " [34 79 54  9 39 86 99  2 61  4 93 94]\n",
      "\n",
      "Reshaped to 3 x 4: \n",
      " [[34 79 54  9]\n",
      " [39 86 99  2]\n",
      " [61  4 93 94]]\n",
      "\n",
      "Row vector : \n",
      " [[34 79 54  9 39 86 99  2 61  4 93 94]]\n",
      "\n",
      "Column vector : \n",
      " [[34]\n",
      " [79]\n",
      " [54]\n",
      " [ 9]\n",
      " [39]\n",
      " [86]\n",
      " [99]\n",
      " [ 2]\n",
      " [61]\n",
      " [ 4]\n",
      " [93]\n",
      " [94]]\n",
      "\n"
     ]
    }
   ],
   "source": [
    "arr = np.random.randint(low=0, high=100, size=12)\n",
    "print(\"Original Array: \\n\", arr, end=\"\\n\\n\")\n",
    "print(\"Reshaped to 3 x 4: \\n\", arr.reshape(3,4), end=\"\\n\\n\")\n",
    "print(\"Row vector : \\n\", arr[np.newaxis, :], end=\"\\n\\n\")\n",
    "print(\"Column vector : \\n\", arr[:, np.newaxis], end=\"\\n\\n\")"
   ]
  },
  {
   "cell_type": "markdown",
   "metadata": {
    "collapsed": true
   },
   "source": [
    "### 03 - 01.06 Concatenating Arrays\n",
    "Just like Python Lists, you can concatenate two arrays using Numpy's `concatenate()`, `hstack()` and `vstack()` functions. \n",
    "\n",
    "However, you must remember that just like lists, when you combine a Numpy array, an actualy copy of both the arrays are made. If you created the two arrays separately, they are randomly scattered in memory, and there is no way to represent them as a `view` Numpy array. It is always advisible to know the size of array that you will be needing before-hand so that you can start with one big array, and have each of the small arrays be a `view` to the big array (you can leverage the power of slicing!)"
   ]
  },
  {
   "cell_type": "code",
   "execution_count": 12,
   "metadata": {
    "collapsed": false
   },
   "outputs": [
    {
     "name": "stdout",
     "output_type": "stream",
     "text": [
      "Arr1: \n",
      "[0 1 2 3 4 5 6 7 8 9]\n",
      "\n",
      "Arr2: \n",
      "[10 11 12 13 14 15 16 17 18 19]\n",
      "\n",
      "Concatenated Array: \n",
      "[ 0  1  2  3  4  5  6  7  8  9 10 11 12 13 14 15 16 17 18 19]\n"
     ]
    }
   ],
   "source": [
    "# Creating two 1D arrays separately\n",
    "arr1 = np.arange(10)\n",
    "arr2 = np.arange(10, 20)\n",
    "arr3 = np.concatenate((arr1, arr2))\n",
    "print(\"Arr1: \\n{}\".format(arr1), end=\"\\n\\n\")\n",
    "print(\"Arr2: \\n{}\".format(arr2), end=\"\\n\\n\")\n",
    "print(\"Concatenated Array: \\n{}\".format(arr3))"
   ]
  },
  {
   "cell_type": "markdown",
   "metadata": {},
   "source": [
    "Concatenation of two multi-dimensional arrays, it is better to use the `hstack()` and `vstack()` for stacking against horizontal and vertical axis respectively."
   ]
  },
  {
   "cell_type": "code",
   "execution_count": 13,
   "metadata": {
    "collapsed": false
   },
   "outputs": [
    {
     "name": "stdout",
     "output_type": "stream",
     "text": [
      "Arr1: \n",
      "[[7 9 2 2]\n",
      " [8 5 3 3]]\n",
      "\n",
      "Arr2: \n",
      "[[91 98 98 98]\n",
      " [99 93 94 97]]\n",
      "\n",
      "Horizontally Stacked Array: \n",
      "[[ 7  9  2  2 91 98 98 98]\n",
      " [ 8  5  3  3 99 93 94 97]]\n",
      "\n",
      "Vertically Stacked Array: \n",
      "[[ 7  9  2  2]\n",
      " [ 8  5  3  3]\n",
      " [91 98 98 98]\n",
      " [99 93 94 97]]\n",
      "\n"
     ]
    }
   ],
   "source": [
    "arr1 = np.random.randint(1, 10, 8).reshape(2, 4)\n",
    "arr2 = np.random.randint(90, 100, 8).reshape(2, 4)\n",
    "# stacking horizontally\n",
    "hs_arr = np.hstack((arr1, arr2))\n",
    "# stacking vertically\n",
    "vs_arr = np.vstack((arr1, arr2))\n",
    "print(\"Arr1: \\n{}\".format(arr1), end=\"\\n\\n\")\n",
    "print(\"Arr2: \\n{}\".format(arr2), end=\"\\n\\n\")\n",
    "print(\"Horizontally Stacked Array: \\n{}\".format(hs_arr), end=\"\\n\\n\")\n",
    "print(\"Vertically Stacked Array: \\n{}\".format(vs_arr), end=\"\\n\\n\")"
   ]
  },
  {
   "cell_type": "markdown",
   "metadata": {},
   "source": [
    "### 03 - 01.07 Splitting Arrays\n",
    "Just like concatenating multiple arrays into one, Numpy's `split()`, `hsplit()` and `vsplit()` allows splitting of one array into multiple smaller ones."
   ]
  },
  {
   "cell_type": "code",
   "execution_count": 14,
   "metadata": {
    "collapsed": false
   },
   "outputs": [
    {
     "data": {
      "text/plain": [
       "[array([0, 1]),\n",
       " array([2, 3, 4, 5, 6, 7]),\n",
       " array([8, 9]),\n",
       " array([10, 11, 12, 13]),\n",
       " array([14, 15, 16, 17, 18, 19])]"
      ]
     },
     "execution_count": 14,
     "metadata": {},
     "output_type": "execute_result"
    }
   ],
   "source": [
    "arr1 = np.arange(20)\n",
    "np.split(arr1, (2, 8, 10, 14))"
   ]
  },
  {
   "cell_type": "markdown",
   "metadata": {},
   "source": [
    "`np.split()` takes the array that we want to split as the first argument and as a second argument, it requires a list or tuple of the index of the elements at which we want to split the array. More the number of split-points, there will be one more subarray i.e `N` split-points, leads to `N + 1` subarrays.\n",
    "\n",
    "Similarly for multi-dimensional arrays, we can use `hsplit()` and `vsplit()`"
   ]
  },
  {
   "cell_type": "code",
   "execution_count": 15,
   "metadata": {
    "collapsed": false
   },
   "outputs": [
    {
     "name": "stdout",
     "output_type": "stream",
     "text": [
      "Original Array: \n",
      "[[8 5 4]\n",
      " [8 5 2]\n",
      " [4 8 3]]\n",
      "\n",
      "First Split: \n",
      "[[8 5]\n",
      " [8 5]\n",
      " [4 8]]\n",
      "\n",
      "Remaining Split: \n",
      "[[4]\n",
      " [2]\n",
      " [3]]\n",
      "\n"
     ]
    }
   ],
   "source": [
    "arr2d = np.random.randint(0, 9, (3,3))\n",
    "print(\"Original Array: \\n{}\".format(arr2d), end=\"\\n\\n\")\n",
    "# split along horizontal axis\n",
    "arr1, arr2 = np.hsplit(arr2d, [2])\n",
    "print(\"First Split: \\n{}\".format(arr1), end=\"\\n\\n\")\n",
    "print(\"Remaining Split: \\n{}\".format(arr2), end=\"\\n\\n\")"
   ]
  }
 ],
 "metadata": {
  "kernelspec": {
   "display_name": "Python [Root]",
   "language": "python",
   "name": "Python [Root]"
  },
  "language_info": {
   "codemirror_mode": {
    "name": "ipython",
    "version": 2
   },
   "file_extension": ".py",
   "mimetype": "text/x-python",
   "name": "python",
   "nbconvert_exporter": "python",
   "pygments_lexer": "ipython2",
   "version": "2.7.13"
  }
 },
 "nbformat": 4,
 "nbformat_minor": 2
}
