{
 "cells": [
  {
   "cell_type": "markdown",
   "metadata": {},
   "source": [
    "# How it's calculated:\n",
    "On the scale of 10, you'll be graded based on: \n",
    "- API credentials\n",
    "- strings manipulation\n",
    "- functions application\n",
    "- dataframe manipulation\n",
    "\n",
    "Try to use more functions and pandas built in functions. You can click tab to see what's inside of pandas: pd.[tab]\n",
    "\n",
    "### Your final scores = 0.8 * [quiz1+quiz2+assign1 performance] + 0.2 * ec scores\n",
    "\n",
    "I'll be accepting submissions until Nov 5, 2017."
   ]
  },
  {
   "cell_type": "markdown",
   "metadata": {},
   "source": [
    "# Problem: \n",
    "Use Google place api to gather price levels for restaurants. Get mean values for restaurants under the same zipcode.\n",
    "\n",
    "1. Get price levels information through API:\n",
    "```\n",
    "yourkey = \n",
    "```\n",
    "\n",
    "2. zip code is included in 'loc' column. \n",
    "\n",
    "```\n",
    "example_loc = '4445 21ST ST, QUEENS, 11101'\n",
    "example_zip = example_loc[-5:]\n",
    "```\n",
    "\n",
    "3. create a new 'zipcode' column inside of the dataframe. df is your pandas dataframe\n",
    "```\n",
    "df['zipcode'] = \n",
    "```\n",
    "\n",
    "4. take price levels mean by zipcode. Ignore NaN\n",
    "```\n",
    "df.groupby('zipcode').mean()['google_price_level']\n",
    "```\n"
   ]
  },
  {
   "cell_type": "markdown",
   "metadata": {},
   "source": [
    "Google places api: https://developers.google.com/places/web-service/  "
   ]
  },
  {
   "cell_type": "code",
   "execution_count": 1,
   "metadata": {
    "collapsed": true
   },
   "outputs": [],
   "source": [
    "#__date__ = 'Oct 25, 2017'\n",
    "import pandas as pd\n",
    "import googlemaps\n",
    "import json\n",
    "import numpy as np\n",
    "import requests\n",
    "\n",
    "import warnings\n",
    "warnings.filterwarnings(\"ignore\")"
   ]
  },
  {
   "cell_type": "code",
   "execution_count": 17,
   "metadata": {
    "collapsed": false,
    "scrolled": true
   },
   "outputs": [
    {
     "data": {
      "text/html": [
       "<div>\n",
       "<table border=\"1\" class=\"dataframe\">\n",
       "  <thead>\n",
       "    <tr style=\"text-align: right;\">\n",
       "      <th></th>\n",
       "      <th>CAMIS</th>\n",
       "      <th>DBA</th>\n",
       "      <th>loc</th>\n",
       "      <th>goog_lat</th>\n",
       "      <th>goog_lng</th>\n",
       "    </tr>\n",
       "  </thead>\n",
       "  <tbody>\n",
       "    <tr>\n",
       "      <th>0</th>\n",
       "      <td>50063325</td>\n",
       "      <td>PARIS BAGUETTE</td>\n",
       "      <td>575 8TH AVE, MANHATTAN, 10018</td>\n",
       "      <td>40.755052</td>\n",
       "      <td>-73.991831</td>\n",
       "    </tr>\n",
       "    <tr>\n",
       "      <th>1</th>\n",
       "      <td>50061140</td>\n",
       "      <td>TURNTABLE CHICKEN JAZZ</td>\n",
       "      <td>20 W 33RD ST, MANHATTAN, 10001</td>\n",
       "      <td>40.748189</td>\n",
       "      <td>-73.986385</td>\n",
       "    </tr>\n",
       "    <tr>\n",
       "      <th>2</th>\n",
       "      <td>50060162</td>\n",
       "      <td>JANE</td>\n",
       "      <td>515 ATLANTIC AVE, BROOKLYN, 11217</td>\n",
       "      <td>40.685265</td>\n",
       "      <td>-73.980549</td>\n",
       "    </tr>\n",
       "    <tr>\n",
       "      <th>3</th>\n",
       "      <td>50059345</td>\n",
       "      <td>WIN XIN RESTAURANT</td>\n",
       "      <td>6001 14TH AVE, BROOKLYN, 11219</td>\n",
       "      <td>40.627298</td>\n",
       "      <td>-73.996322</td>\n",
       "    </tr>\n",
       "    <tr>\n",
       "      <th>4</th>\n",
       "      <td>50058634</td>\n",
       "      <td>LA FLOR DEL CANARIO #2 RESTAURANT PIZZERIA</td>\n",
       "      <td>2225 PITKIN AVE, BROOKLYN, 11207</td>\n",
       "      <td>40.672729</td>\n",
       "      <td>-73.890212</td>\n",
       "    </tr>\n",
       "  </tbody>\n",
       "</table>\n",
       "</div>"
      ],
      "text/plain": [
       "      CAMIS                                         DBA  \\\n",
       "0  50063325                              PARIS BAGUETTE   \n",
       "1  50061140                      TURNTABLE CHICKEN JAZZ   \n",
       "2  50060162                                        JANE   \n",
       "3  50059345                          WIN XIN RESTAURANT   \n",
       "4  50058634  LA FLOR DEL CANARIO #2 RESTAURANT PIZZERIA   \n",
       "\n",
       "                                 loc   goog_lat   goog_lng  \n",
       "0      575 8TH AVE, MANHATTAN, 10018  40.755052 -73.991831  \n",
       "1     20 W 33RD ST, MANHATTAN, 10001  40.748189 -73.986385  \n",
       "2  515 ATLANTIC AVE, BROOKLYN, 11217  40.685265 -73.980549  \n",
       "3     6001 14TH AVE, BROOKLYN, 11219  40.627298 -73.996322  \n",
       "4   2225 PITKIN AVE, BROOKLYN, 11207  40.672729 -73.890212  "
      ]
     },
     "execution_count": 17,
     "metadata": {},
     "output_type": "execute_result"
    }
   ],
   "source": [
    "# get inspected restaurant data\n",
    "inspected = pd.read_csv('uniq_biz_yelp_geo_cut.csv', index_col=0)\n",
    "inspected.head()"
   ]
  },
  {
   "cell_type": "code",
   "execution_count": 8,
   "metadata": {
    "collapsed": false
   },
   "outputs": [],
   "source": [
    "# api credentials. Use your own 'secrets.json' file\n",
    "with open('secrets.json') as f:    \n",
    "    creds = json.load(f)\n",
    "    google_client = googlemaps.Client(key=yourkey)"
   ]
  },
  {
   "cell_type": "code",
   "execution_count": 9,
   "metadata": {
    "collapsed": true
   },
   "outputs": [],
   "source": [
    "def get_keywords(name):\n",
    "    keywords = name.split(' ')\n",
    "    # lowercase\n",
    "    keywords = map(lambda word: word.lower(), keywords)\n",
    "    # ignore puncuation ect.\n",
    "    keywords = map(lambda word: word.replace(\"'\",\"\")\\\n",
    "                                    .replace(\"-\",\"\")\\\n",
    "                                    .replace(\".\",\"\")\\\n",
    "                                    .replace(\",\",\"\"), keywords)\n",
    "    # only keeps words of length 3 or more\n",
    "    keywords = filter(lambda word: len(word) >= 3, keywords)\n",
    "    # but throw out a common set of 3 letter words\n",
    "    keywords = filter(lambda word: word not in ['and', 'the', 'for'], keywords)\n",
    "    return keywords"
   ]
  },
  {
   "cell_type": "code",
   "execution_count": 21,
   "metadata": {
    "collapsed": false
   },
   "outputs": [
    {
     "data": {
      "text/plain": [
       "['little', 'caesare']"
      ]
     },
     "execution_count": 21,
     "metadata": {},
     "output_type": "execute_result"
    }
   ],
   "source": [
    "# sample\n",
    "get_keywords(inspected.loc[10,'DBA'])"
   ]
  },
  {
   "cell_type": "code",
   "execution_count": 11,
   "metadata": {
    "collapsed": true
   },
   "outputs": [],
   "source": [
    "def find_google(df):\n",
    "    import tqdm\n",
    "    for row, insp in tqdm.tqdm(df.iterrows()):\n",
    "        df['google_categories'] = np.empty((len(df), 1))\n",
    "        df['google_categories'][:] = np.nan\n",
    "        df['google_categories'] = df['google_categories'].astype(object)\n",
    "        \n",
    "        name = insp[1]\n",
    "        true_keywords = get_keywords(name)\n",
    "        try:\n",
    "            params = {\n",
    "                'location': {'lat' : insp[3], 'lng' : insp[4]},\n",
    "                'keyword': \" \".join(true_keywords),\n",
    "                'radius': 100,\n",
    "            }\n",
    "\n",
    "            google_results = google_client.places_nearby(**params)\n",
    "            # finding the best match among candidates\n",
    "            best_match = False\n",
    "            for i, biz in enumerate(google_results['results']):\n",
    "                candidate_keywords = get_keywords(biz['name'])\n",
    "                union = len(set(true_keywords) & set(candidate_keywords))\n",
    "                if union > 0:\n",
    "                    if best_match == False or union > best_match[1]:\n",
    "                        best_match = (i, union)\n",
    "            # append restaurant attributes to the inspections dataframe\n",
    "            if best_match == False:\n",
    "                pass # dataframe attributes already default to 'None'\n",
    "            else:\n",
    "                best_match = google_results['results'][best_match[0]]\n",
    "                df.loc[row, 'google_price_level'] = best_match.get('price_level', np.nan)\n",
    "                types = [best_match['types']]\n",
    "                df.set_value(row, 'google_categories', types )\n",
    "                df.loc[row, 'google_rating'] = best_match.get('rating', np.nan)\n",
    "                \n",
    "        except (IndexError, requests.Timeout, googlemaps.exceptions.HTTPError):\n",
    "            df.set_value(row, 'google_categories', None )\n",
    "            df.set_value(row, 'google_price_level', None )\n",
    "            df.set_value(row, 'google_rating', None )\n",
    "    return df"
   ]
  },
  {
   "cell_type": "code",
   "execution_count": 24,
   "metadata": {
    "collapsed": false
   },
   "outputs": [
    {
     "name": "stderr",
     "output_type": "stream",
     "text": [
      "6it [00:01,  3.39it/s]\n"
     ]
    }
   ],
   "source": [
    "# testing on the first five rows\n",
    "wowgg = find_google(inspected.loc[:4,:])\n"
   ]
  },
  {
   "cell_type": "code",
   "execution_count": 25,
   "metadata": {
    "collapsed": false
   },
   "outputs": [
    {
     "data": {
      "text/html": [
       "<div>\n",
       "<table border=\"1\" class=\"dataframe\">\n",
       "  <thead>\n",
       "    <tr style=\"text-align: right;\">\n",
       "      <th></th>\n",
       "      <th>CAMIS</th>\n",
       "      <th>DBA</th>\n",
       "      <th>loc</th>\n",
       "      <th>goog_lat</th>\n",
       "      <th>goog_lng</th>\n",
       "      <th>google_categories</th>\n",
       "      <th>google_price_level</th>\n",
       "      <th>google_rating</th>\n",
       "    </tr>\n",
       "  </thead>\n",
       "  <tbody>\n",
       "    <tr>\n",
       "      <th>0</th>\n",
       "      <td>50063325</td>\n",
       "      <td>PARIS BAGUETTE</td>\n",
       "      <td>575 8TH AVE, MANHATTAN, 10018</td>\n",
       "      <td>40.755052</td>\n",
       "      <td>-73.991831</td>\n",
       "      <td>NaN</td>\n",
       "      <td>NaN</td>\n",
       "      <td>4.8</td>\n",
       "    </tr>\n",
       "    <tr>\n",
       "      <th>1</th>\n",
       "      <td>50061140</td>\n",
       "      <td>TURNTABLE CHICKEN JAZZ</td>\n",
       "      <td>20 W 33RD ST, MANHATTAN, 10001</td>\n",
       "      <td>40.748189</td>\n",
       "      <td>-73.986385</td>\n",
       "      <td>NaN</td>\n",
       "      <td>2.0</td>\n",
       "      <td>4.3</td>\n",
       "    </tr>\n",
       "    <tr>\n",
       "      <th>2</th>\n",
       "      <td>50060162</td>\n",
       "      <td>JANE</td>\n",
       "      <td>515 ATLANTIC AVE, BROOKLYN, 11217</td>\n",
       "      <td>40.685265</td>\n",
       "      <td>-73.980549</td>\n",
       "      <td>NaN</td>\n",
       "      <td>NaN</td>\n",
       "      <td>NaN</td>\n",
       "    </tr>\n",
       "    <tr>\n",
       "      <th>3</th>\n",
       "      <td>50059345</td>\n",
       "      <td>WIN XIN RESTAURANT</td>\n",
       "      <td>6001 14TH AVE, BROOKLYN, 11219</td>\n",
       "      <td>40.627298</td>\n",
       "      <td>-73.996322</td>\n",
       "      <td>NaN</td>\n",
       "      <td>1.0</td>\n",
       "      <td>4.1</td>\n",
       "    </tr>\n",
       "    <tr>\n",
       "      <th>4</th>\n",
       "      <td>50058634</td>\n",
       "      <td>LA FLOR DEL CANARIO #2 RESTAURANT PIZZERIA</td>\n",
       "      <td>2225 PITKIN AVE, BROOKLYN, 11207</td>\n",
       "      <td>40.672729</td>\n",
       "      <td>-73.890212</td>\n",
       "      <td>NaN</td>\n",
       "      <td>NaN</td>\n",
       "      <td>3.0</td>\n",
       "    </tr>\n",
       "    <tr>\n",
       "      <th>5</th>\n",
       "      <td>50057842</td>\n",
       "      <td>DUNKIN DONUTS</td>\n",
       "      <td>925 HUNTS POINT AVE, BRONX, 10459</td>\n",
       "      <td>40.820303</td>\n",
       "      <td>-73.891367</td>\n",
       "      <td>[[bakery, cafe, restaurant, food, store, point...</td>\n",
       "      <td>1.0</td>\n",
       "      <td>3.9</td>\n",
       "    </tr>\n",
       "  </tbody>\n",
       "</table>\n",
       "</div>"
      ],
      "text/plain": [
       "      CAMIS                                         DBA  \\\n",
       "0  50063325                              PARIS BAGUETTE   \n",
       "1  50061140                      TURNTABLE CHICKEN JAZZ   \n",
       "2  50060162                                        JANE   \n",
       "3  50059345                          WIN XIN RESTAURANT   \n",
       "4  50058634  LA FLOR DEL CANARIO #2 RESTAURANT PIZZERIA   \n",
       "5  50057842                               DUNKIN DONUTS   \n",
       "\n",
       "                                 loc   goog_lat   goog_lng  \\\n",
       "0      575 8TH AVE, MANHATTAN, 10018  40.755052 -73.991831   \n",
       "1     20 W 33RD ST, MANHATTAN, 10001  40.748189 -73.986385   \n",
       "2  515 ATLANTIC AVE, BROOKLYN, 11217  40.685265 -73.980549   \n",
       "3     6001 14TH AVE, BROOKLYN, 11219  40.627298 -73.996322   \n",
       "4   2225 PITKIN AVE, BROOKLYN, 11207  40.672729 -73.890212   \n",
       "5  925 HUNTS POINT AVE, BRONX, 10459  40.820303 -73.891367   \n",
       "\n",
       "                                   google_categories  google_price_level  \\\n",
       "0                                                NaN                 NaN   \n",
       "1                                                NaN                 2.0   \n",
       "2                                                NaN                 NaN   \n",
       "3                                                NaN                 1.0   \n",
       "4                                                NaN                 NaN   \n",
       "5  [[bakery, cafe, restaurant, food, store, point...                 1.0   \n",
       "\n",
       "   google_rating  \n",
       "0            4.8  \n",
       "1            4.3  \n",
       "2            NaN  \n",
       "3            4.1  \n",
       "4            3.0  \n",
       "5            3.9  "
      ]
     },
     "execution_count": 25,
     "metadata": {},
     "output_type": "execute_result"
    }
   ],
   "source": [
    "wowgg"
   ]
  }
 ],
 "metadata": {
  "anaconda-cloud": {},
  "kernelspec": {
   "display_name": "Python [Root]",
   "language": "python",
   "name": "Python [Root]"
  },
  "language_info": {
   "codemirror_mode": {
    "name": "ipython",
    "version": 2
   },
   "file_extension": ".py",
   "mimetype": "text/x-python",
   "name": "python",
   "nbconvert_exporter": "python",
   "pygments_lexer": "ipython2",
   "version": "2.7.13"
  }
 },
 "nbformat": 4,
 "nbformat_minor": 1
}
