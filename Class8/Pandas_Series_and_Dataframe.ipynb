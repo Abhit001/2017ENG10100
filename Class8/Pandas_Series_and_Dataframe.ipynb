{
 "cells": [
  {
   "cell_type": "markdown",
   "metadata": {},
   "source": [
    "## Pandas Series and Dataframes"
   ]
  },
  {
   "cell_type": "markdown",
   "metadata": {},
   "source": [
    "**Pandas** is a Python package providing fast, flexible, and expressive data structures designed to make working with “relational” or “labeled” data both easy and intuitive. It aims to be the fundamental high-level building block for doing practical, real world data analysis in Python.\n",
    "Pandas provides high-performance, easy-to-use data structures and data analysis tools for the Python programming language. To get started with pandas, you will need to get comfortable with its two workhorse data structures: Series and DataFrame. \n",
    "\n",
    "## Series\n",
    "Pandas Series is a one-dimensional array-like object that has index and value just like Numpy. Infact if you view the type of the `values` of series object, you will see that it indeed is `numpy.ndarray`.\n",
    "\n",
    "You can assign name to pandas Series.\n"
   ]
  },
  {
   "cell_type": "code",
   "execution_count": 1,
   "metadata": {},
   "outputs": [],
   "source": [
    "import pandas as pd\n",
    "import numpy as np\n",
    "import matplotlib.pyplot as plt\n",
    "%matplotlib inline\n",
    "plt.style.use('seaborn-darkgrid')"
   ]
  },
  {
   "cell_type": "code",
   "execution_count": 2,
   "metadata": {},
   "outputs": [
    {
     "name": "stdout",
     "output_type": "stream",
     "text": [
      "('Name: ', 'test_data')\n",
      "('Data:\\n', 0    8\n",
      "1    7\n",
      "2    6\n",
      "3    5\n",
      "Name: test_data, dtype: int64)\n",
      "('Type of Object: ', <class 'pandas.core.series.Series'>)\n",
      "('Type of elements:', <type 'numpy.ndarray'>)\n"
     ]
    }
   ],
   "source": [
    "ob = pd.Series([8,7,6,5], name='test_data')\n",
    "print('Name: ',ob.name)\n",
    "print('Data:\\n',ob)\n",
    "print('Type of Object: ',type(ob))\n",
    "print('Type of elements:',type(ob.values))"
   ]
  },
  {
   "cell_type": "markdown",
   "metadata": {},
   "source": [
    "You can also use your numpy array and convert them to Series."
   ]
  },
  {
   "cell_type": "code",
   "execution_count": 3,
   "metadata": {},
   "outputs": [
    {
     "name": "stdout",
     "output_type": "stream",
     "text": [
      "0    8\n",
      "1    7\n",
      "2    6\n",
      "3    5\n",
      "dtype: int64\n",
      "<class 'pandas.core.series.Series'>\n"
     ]
    }
   ],
   "source": [
    "# integers between 5 to 8 (reversed)\n",
    "ob = pd.Series(np.linspace(5, 8, num=4, dtype=int)[::-1])\n",
    "print(ob)\n",
    "print(type(ob))"
   ]
  },
  {
   "cell_type": "markdown",
   "metadata": {},
   "source": [
    "You can also provide custom index to the values and just like in Numpy, access them with the index."
   ]
  },
  {
   "cell_type": "code",
   "execution_count": 4,
   "metadata": {},
   "outputs": [
    {
     "name": "stdout",
     "output_type": "stream",
     "text": [
      "7\n"
     ]
    }
   ],
   "source": [
    "ob = pd.Series([8,7,6,5], index=['a','b','c','d'])\n",
    "print(ob['b'])"
   ]
  },
  {
   "cell_type": "markdown",
   "metadata": {},
   "source": [
    "Pandas Series is more like a fixed size dictionary whose mapping of index-value is preserved when array operations are applied to them. For example,"
   ]
  },
  {
   "cell_type": "code",
   "execution_count": 5,
   "metadata": {},
   "outputs": [
    {
     "name": "stdout",
     "output_type": "stream",
     "text": [
      "b    7\n",
      "c    6\n",
      "d    5\n",
      "dtype: int64\n"
     ]
    }
   ],
   "source": [
    "# select all the values greater than 4 and less than 8\n",
    "print(ob[(ob>4) & (ob<8)])"
   ]
  },
  {
   "cell_type": "markdown",
   "metadata": {},
   "source": [
    "This also means that if you have a dictionary, you can easily convert that into pandas series."
   ]
  },
  {
   "cell_type": "code",
   "execution_count": 6,
   "metadata": {},
   "outputs": [
    {
     "name": "stdout",
     "output_type": "stream",
     "text": [
      "State1       Alabama\n",
      "State2    California\n",
      "State3    New Jersey\n",
      "State4      New York\n",
      "dtype: object\n",
      "<class 'pandas.core.series.Series'>\n"
     ]
    }
   ],
   "source": [
    "states_dict = {'State1': 'Alabama', \n",
    "               'State2': 'California', \n",
    "               'State3': 'New Jersey', \n",
    "               'State4': 'New York'}\n",
    "ob = pd.Series(states_dict)\n",
    "print(ob)\n",
    "print(type(ob))"
   ]
  },
  {
   "cell_type": "markdown",
   "metadata": {},
   "source": [
    "Just like dictionaries, you can also change the index.."
   ]
  },
  {
   "cell_type": "code",
   "execution_count": 7,
   "metadata": {},
   "outputs": [
    {
     "name": "stdout",
     "output_type": "stream",
     "text": [
      "AL       Alabama\n",
      "CA    California\n",
      "NJ    New Jersey\n",
      "NY      New York\n",
      "dtype: object\n"
     ]
    }
   ],
   "source": [
    "ob.index = ['AL','CA','NJ','NY']\n",
    "print(ob)"
   ]
  },
  {
   "cell_type": "markdown",
   "metadata": {},
   "source": [
    "or use dictionary's method to get the label.."
   ]
  },
  {
   "cell_type": "code",
   "execution_count": 8,
   "metadata": {},
   "outputs": [
    {
     "data": {
      "text/plain": [
       "'California'"
      ]
     },
     "execution_count": 8,
     "metadata": {},
     "output_type": "execute_result"
    }
   ],
   "source": [
    "ob.get('CA', np.nan)"
   ]
  },
  {
   "cell_type": "markdown",
   "metadata": {},
   "source": [
    "## Dataframe\n",
    "Dataframe is something like spreadsheet or a sql table. It is basically a 2 dimensional labelled data structure with columns of potentially different datatype. Like Series, DataFrame accepts many different kinds of input:\n",
    "* Dict of 1D ndarrays, lists, dicts, or Series\n",
    "* 2-D numpy.ndarray\n",
    "* [`Structured or record ndarray`](http://docs.scipy.org/doc/numpy/user/basics.rec.html 'Structured or record ndarray')\n",
    "* A Series\n",
    "* Another DataFrame\n",
    "\n",
    "Compared with other such DataFrame-like structures you may have used before (like `R’s` `data.frame`), row- oriented and column-oriented operations in DataFrame are treated roughly symmetrically. Under the hood, the data is stored as one or more two-dimensional blocks rather than a list, dict, or some other collection of one-dimensional arrays.\n",
    "\n",
    "\n",
    "### Creating Dataframes from dictionaries"
   ]
  },
  {
   "cell_type": "code",
   "execution_count": 9,
   "metadata": {},
   "outputs": [],
   "source": [
    "data = {'one' : pd.Series([1., 2., 3.], index=['a', 'b', 'c']),\n",
    "    'two' : pd.Series([1., 2., 3., 4.], index=['a', 'b', 'c', 'd'])}"
   ]
  },
  {
   "cell_type": "code",
   "execution_count": 10,
   "metadata": {},
   "outputs": [
    {
     "name": "stdout",
     "output_type": "stream",
     "text": [
      "('Dataframe:\\n',    one  two\n",
      "a  1.0  1.0\n",
      "b  2.0  2.0\n",
      "c  3.0  3.0\n",
      "d  NaN  4.0)\n",
      "('Type of Object:', <class 'pandas.core.frame.DataFrame'>)\n",
      "('Type of elements:', <type 'numpy.ndarray'>)\n"
     ]
    }
   ],
   "source": [
    "df = pd.DataFrame(data)\n",
    "print('Dataframe:\\n',df)\n",
    "print('Type of Object:',type(df))\n",
    "print('Type of elements:',type(df.values))"
   ]
  },
  {
   "cell_type": "markdown",
   "metadata": {},
   "source": [
    "> Another way to construct dataframe from dictionaries is by using `DataFrame.from_dict` function. `DataFrame.from_dict` takes a dict of dicts or a dict of array-like sequences and returns a DataFrame. It operates like the DataFrame constructor except for the orient parameter which is 'columns' by default, but which can be set to 'index' in order to use the dict keys as row labels.\n",
    "\n",
    "Just like Series, you can access index, values and also columns."
   ]
  },
  {
   "cell_type": "code",
   "execution_count": 11,
   "metadata": {},
   "outputs": [
    {
     "name": "stdout",
     "output_type": "stream",
     "text": [
      "('Index: ', Index([u'a', u'b', u'c', u'd'], dtype='object'))\n",
      "('Columns: ', Index([u'one', u'two'], dtype='object'))\n",
      "('Values of Column one: ', array([  1.,   2.,   3.,  nan]))\n",
      "('Values of Column two: ', array([ 1.,  2.,  3.,  4.]))\n"
     ]
    }
   ],
   "source": [
    "print('Index: ',df.index)\n",
    "print('Columns: ',df.columns)\n",
    "print('Values of Column one: ',df['one'].values)\n",
    "print('Values of Column two: ',df['two'].values)"
   ]
  },
  {
   "cell_type": "markdown",
   "metadata": {},
   "source": [
    "### Creating dataframe from list of dictionaries\n",
    "\n",
    "As with Series, if you pass a column that isn’t contained in data, it will appear with NaN values in the result"
   ]
  },
  {
   "cell_type": "code",
   "execution_count": 12,
   "metadata": {},
   "outputs": [
    {
     "name": "stdout",
     "output_type": "stream",
     "text": [
      "('Dataframe: \\n',      a  b  c    d    e\n",
      "one  1  2  3  NaN  NaN\n",
      "two  2  2  3  4.0  5.0)\n",
      "('Transposed Dataframe: \\n',    one  two\n",
      "a  1.0  2.0\n",
      "b  2.0  2.0\n",
      "c  3.0  3.0\n",
      "d  NaN  4.0\n",
      "e  NaN  5.0)\n"
     ]
    }
   ],
   "source": [
    "df2 = pd.DataFrame([{'a': 1, 'b': 2, 'c':3, 'd':None}, \n",
    "                    {'a': 2, 'b': 2, 'c': 3, 'd': 4, 'e':5}],\n",
    "                   index=['one', 'two'])\n",
    "print('Dataframe: \\n',df2)\n",
    "\n",
    "# Ofcourse you can also transpose the result:\n",
    "print('Transposed Dataframe: \\n',df2.T)"
   ]
  },
  {
   "cell_type": "markdown",
   "metadata": {},
   "source": [
    "Assigning a column that doesn’t exist will create a new column. "
   ]
  },
  {
   "cell_type": "code",
   "execution_count": 13,
   "metadata": {},
   "outputs": [
    {
     "name": "stdout",
     "output_type": "stream",
     "text": [
      "('Added third column: \\n',    one  two three\n",
      "a  1.0  1.0  None\n",
      "b  2.0  2.0  None\n",
      "c  3.0  3.0  None\n",
      "d  NaN  4.0  None)\n",
      "('\\nDeleted third column: \\n',    one  two\n",
      "a  1.0  1.0\n",
      "b  2.0  2.0\n",
      "c  3.0  3.0\n",
      "d  NaN  4.0)\n"
     ]
    }
   ],
   "source": [
    "df['three'] = None\n",
    "print('Added third column: \\n',df)\n",
    "\n",
    "# The del keyword can be used delete columns:\n",
    "del df['three']\n",
    "print('\\nDeleted third column: \\n',df)\n",
    "# You can also use df.drop(). We shall see that later"
   ]
  },
  {
   "cell_type": "markdown",
   "metadata": {},
   "source": [
    "Each Index has a number of methods and properties for set logic and answering other common questions about the data it contains.\n",
    "\n",
    "\n",
    "|Method | Description|\n",
    "|:---|:---|\n",
    "|`append` | Concatenate with additional Index objects, producing a new Index|\n",
    "|`diff` | Compute set difference as an Index|\n",
    "|`intersection` | Compute set intersection|\n",
    "|`union` | Compute set union|\n",
    "|`isin` | Compute boolean array indicating whether each value is contained in the passed collection|\n",
    "|`delete` | Compute new Index with element at index i deleted|\n",
    "|`drop` | Compute new index by deleting passed values|\n",
    "|`insert` | Compute new Index by inserting element at index i|\n",
    "|`is_monotonic` | Returns True if each element is greater than or equal to the previous element| \n",
    "|`is_unique` | Returns True if the Index has no duplicate values|\n",
    "|`unique` | Compute the array of unique values in the Index|\n",
    "\n",
    "for example:"
   ]
  },
  {
   "cell_type": "code",
   "execution_count": 14,
   "metadata": {
    "scrolled": true
   },
   "outputs": [
    {
     "name": "stdout",
     "output_type": "stream",
     "text": [
      "True\n",
      "True\n"
     ]
    }
   ],
   "source": [
    "print(1 in df.one.values)\n",
    "print('one' in df.columns)"
   ]
  },
  {
   "cell_type": "code",
   "execution_count": 15,
   "metadata": {},
   "outputs": [
    {
     "data": {
      "text/plain": [
       "False"
      ]
     },
     "execution_count": 15,
     "metadata": {},
     "output_type": "execute_result"
    }
   ],
   "source": [
    "1 in df.one"
   ]
  },
  {
   "cell_type": "markdown",
   "metadata": {},
   "source": [
    "## Reindexing\n",
    "A critical method on pandas objects is reindex, which means to create a new object with the data conformed to a new index."
   ]
  },
  {
   "cell_type": "code",
   "execution_count": 16,
   "metadata": {},
   "outputs": [
    {
     "name": "stdout",
     "output_type": "stream",
     "text": [
      "   one  two\n",
      "a  1.0  1.0\n",
      "b  2.0  2.0\n",
      "c  3.0  3.0\n",
      "d  NaN  4.0\n"
     ]
    }
   ],
   "source": [
    "data = {'one' : pd.Series([1., 2., 3.], index=['a', 'b', 'c']),\n",
    "    'two' : pd.Series([1., 2., 3., 4.], index=['a', 'b', 'c', 'd'])}\n",
    "df = pd.DataFrame(data)\n",
    "print(df)"
   ]
  },
  {
   "cell_type": "code",
   "execution_count": 17,
   "metadata": {},
   "outputs": [
    {
     "name": "stdout",
     "output_type": "stream",
     "text": [
      "   one  two\n",
      "d  NaN  4.0\n",
      "c  3.0  3.0\n",
      "b  2.0  2.0\n",
      "a  1.0  1.0\n"
     ]
    }
   ],
   "source": [
    "# Reindex in descending order.\n",
    "print(df.reindex(['d','c','b','a']))"
   ]
  },
  {
   "cell_type": "markdown",
   "metadata": {},
   "source": [
    "If you `reindex` with more number of rows than in the dataframe, it will return the dataframe with new row whose values are `NaN`."
   ]
  },
  {
   "cell_type": "code",
   "execution_count": 18,
   "metadata": {},
   "outputs": [
    {
     "name": "stdout",
     "output_type": "stream",
     "text": [
      "   one  two\n",
      "a  1.0  1.0\n",
      "b  2.0  2.0\n",
      "c  3.0  3.0\n",
      "d  NaN  4.0\n",
      "e  NaN  NaN\n"
     ]
    }
   ],
   "source": [
    "print(df.reindex(['a','b','c','d','e']))"
   ]
  },
  {
   "cell_type": "markdown",
   "metadata": {},
   "source": [
    "Reindexing is also useful when you want to introduce any missing values. For example in our case, look at column `one` and row `d`"
   ]
  },
  {
   "cell_type": "code",
   "execution_count": 19,
   "metadata": {},
   "outputs": [
    {
     "data": {
      "text/html": [
       "<div>\n",
       "<style>\n",
       "    .dataframe thead tr:only-child th {\n",
       "        text-align: right;\n",
       "    }\n",
       "\n",
       "    .dataframe thead th {\n",
       "        text-align: left;\n",
       "    }\n",
       "\n",
       "    .dataframe tbody tr th {\n",
       "        vertical-align: top;\n",
       "    }\n",
       "</style>\n",
       "<table border=\"1\" class=\"dataframe\">\n",
       "  <thead>\n",
       "    <tr style=\"text-align: right;\">\n",
       "      <th></th>\n",
       "      <th>one</th>\n",
       "      <th>two</th>\n",
       "    </tr>\n",
       "  </thead>\n",
       "  <tbody>\n",
       "    <tr>\n",
       "      <th>a</th>\n",
       "      <td>1.0</td>\n",
       "      <td>1.0</td>\n",
       "    </tr>\n",
       "    <tr>\n",
       "      <th>b</th>\n",
       "      <td>2.0</td>\n",
       "      <td>2.0</td>\n",
       "    </tr>\n",
       "    <tr>\n",
       "      <th>c</th>\n",
       "      <td>3.0</td>\n",
       "      <td>3.0</td>\n",
       "    </tr>\n",
       "    <tr>\n",
       "      <th>d</th>\n",
       "      <td>NaN</td>\n",
       "      <td>4.0</td>\n",
       "    </tr>\n",
       "    <tr>\n",
       "      <th>e</th>\n",
       "      <td>0.0</td>\n",
       "      <td>0.0</td>\n",
       "    </tr>\n",
       "  </tbody>\n",
       "</table>\n",
       "</div>"
      ],
      "text/plain": [
       "   one  two\n",
       "a  1.0  1.0\n",
       "b  2.0  2.0\n",
       "c  3.0  3.0\n",
       "d  NaN  4.0\n",
       "e  0.0  0.0"
      ]
     },
     "execution_count": 19,
     "metadata": {},
     "output_type": "execute_result"
    }
   ],
   "source": [
    "df.reindex(['a','b','c','d','e'], fill_value=0)\n",
    "# Guess why the df['one']['d'] was not filled with 0 ?"
   ]
  },
  {
   "cell_type": "markdown",
   "metadata": {},
   "source": [
    "For ordered data like time series, it may be desirable to do some interpolation or filling of values when `reindex`ing. The method option allows us to do this, using a `method` such as `ffill` which forward fills the values:"
   ]
  },
  {
   "cell_type": "code",
   "execution_count": 20,
   "metadata": {},
   "outputs": [
    {
     "data": {
      "text/html": [
       "<div>\n",
       "<style>\n",
       "    .dataframe thead tr:only-child th {\n",
       "        text-align: right;\n",
       "    }\n",
       "\n",
       "    .dataframe thead th {\n",
       "        text-align: left;\n",
       "    }\n",
       "\n",
       "    .dataframe tbody tr th {\n",
       "        vertical-align: top;\n",
       "    }\n",
       "</style>\n",
       "<table border=\"1\" class=\"dataframe\">\n",
       "  <thead>\n",
       "    <tr style=\"text-align: right;\">\n",
       "      <th></th>\n",
       "      <th>one</th>\n",
       "      <th>two</th>\n",
       "    </tr>\n",
       "  </thead>\n",
       "  <tbody>\n",
       "    <tr>\n",
       "      <th>a</th>\n",
       "      <td>1.0</td>\n",
       "      <td>1.0</td>\n",
       "    </tr>\n",
       "    <tr>\n",
       "      <th>b</th>\n",
       "      <td>2.0</td>\n",
       "      <td>2.0</td>\n",
       "    </tr>\n",
       "    <tr>\n",
       "      <th>c</th>\n",
       "      <td>3.0</td>\n",
       "      <td>3.0</td>\n",
       "    </tr>\n",
       "    <tr>\n",
       "      <th>d</th>\n",
       "      <td>NaN</td>\n",
       "      <td>4.0</td>\n",
       "    </tr>\n",
       "    <tr>\n",
       "      <th>e</th>\n",
       "      <td>NaN</td>\n",
       "      <td>4.0</td>\n",
       "    </tr>\n",
       "  </tbody>\n",
       "</table>\n",
       "</div>"
      ],
      "text/plain": [
       "   one  two\n",
       "a  1.0  1.0\n",
       "b  2.0  2.0\n",
       "c  3.0  3.0\n",
       "d  NaN  4.0\n",
       "e  NaN  4.0"
      ]
     },
     "execution_count": 20,
     "metadata": {},
     "output_type": "execute_result"
    }
   ],
   "source": [
    "df.reindex(['a','b','c','d','e'], method='ffill')"
   ]
  },
  {
   "cell_type": "markdown",
   "metadata": {},
   "source": [
    "There are basically two different types of method (interpolation) options:\n",
    "\n",
    "|Method | Description|\n",
    "|:---|:---|\n",
    "|`ffill` or `pad` | Fill (or carry) values forward |\n",
    "|`bfill` or `backfill` | Fill (or carry) values backward|\n",
    "\n",
    "Reindexing has following arguments:\n",
    "\n",
    "|Argument | Description|\n",
    "|:---|:---|\n",
    "|`index` | New sequence to use as index. Can be Index instance or any other sequence-like Python data structure. An Index will be used exactly as is without any copying|\n",
    "|`method` | Interpolation (fill) method, see above table for options.|\n",
    "|`fill_value` | Substitute value to use when introducing missing data by reindexing.|\n",
    "|`limit` | When forward- or backfilling, maximum size gap to fill|\n",
    "|`level` | Match simple Index on level of MultiIndex, otherwise select subset of|\n",
    "|`copy` | Do not copy underlying data if new index is equivalent to old index. True by default (i.e. always copy data)|"
   ]
  },
  {
   "cell_type": "markdown",
   "metadata": {},
   "source": [
    "## Dropping Entries\n",
    "Dropping one or more entries from an axis is easy if you have an index array or list without those entries."
   ]
  },
  {
   "cell_type": "code",
   "execution_count": 30,
   "metadata": {},
   "outputs": [
    {
     "data": {
      "text/html": [
       "<div>\n",
       "<style>\n",
       "    .dataframe thead tr:only-child th {\n",
       "        text-align: right;\n",
       "    }\n",
       "\n",
       "    .dataframe thead th {\n",
       "        text-align: left;\n",
       "    }\n",
       "\n",
       "    .dataframe tbody tr th {\n",
       "        vertical-align: top;\n",
       "    }\n",
       "</style>\n",
       "<table border=\"1\" class=\"dataframe\">\n",
       "  <thead>\n",
       "    <tr style=\"text-align: right;\">\n",
       "      <th></th>\n",
       "      <th>one</th>\n",
       "      <th>two</th>\n",
       "    </tr>\n",
       "  </thead>\n",
       "  <tbody>\n",
       "    <tr>\n",
       "      <th>b</th>\n",
       "      <td>2.0</td>\n",
       "      <td>2.0</td>\n",
       "    </tr>\n",
       "    <tr>\n",
       "      <th>d</th>\n",
       "      <td>NaN</td>\n",
       "      <td>4.0</td>\n",
       "    </tr>\n",
       "  </tbody>\n",
       "</table>\n",
       "</div>"
      ],
      "text/plain": [
       "   one  two\n",
       "b  2.0  2.0\n",
       "d  NaN  4.0"
      ]
     },
     "execution_count": 30,
     "metadata": {},
     "output_type": "execute_result"
    }
   ],
   "source": [
    "# Drop row c and row a\n",
    "df.drop(['c', 'a'])"
   ]
  },
  {
   "cell_type": "code",
   "execution_count": 22,
   "metadata": {},
   "outputs": [
    {
     "data": {
      "text/html": [
       "<div>\n",
       "<style>\n",
       "    .dataframe thead tr:only-child th {\n",
       "        text-align: right;\n",
       "    }\n",
       "\n",
       "    .dataframe thead th {\n",
       "        text-align: left;\n",
       "    }\n",
       "\n",
       "    .dataframe tbody tr th {\n",
       "        vertical-align: top;\n",
       "    }\n",
       "</style>\n",
       "<table border=\"1\" class=\"dataframe\">\n",
       "  <thead>\n",
       "    <tr style=\"text-align: right;\">\n",
       "      <th></th>\n",
       "      <th>one</th>\n",
       "    </tr>\n",
       "  </thead>\n",
       "  <tbody>\n",
       "    <tr>\n",
       "      <th>a</th>\n",
       "      <td>1.0</td>\n",
       "    </tr>\n",
       "    <tr>\n",
       "      <th>b</th>\n",
       "      <td>2.0</td>\n",
       "    </tr>\n",
       "    <tr>\n",
       "      <th>c</th>\n",
       "      <td>3.0</td>\n",
       "    </tr>\n",
       "    <tr>\n",
       "      <th>d</th>\n",
       "      <td>NaN</td>\n",
       "    </tr>\n",
       "  </tbody>\n",
       "</table>\n",
       "</div>"
      ],
      "text/plain": [
       "   one\n",
       "a  1.0\n",
       "b  2.0\n",
       "c  3.0\n",
       "d  NaN"
      ]
     },
     "execution_count": 22,
     "metadata": {},
     "output_type": "execute_result"
    }
   ],
   "source": [
    "# Drop column two\n",
    "df.drop(['two'], axis=1)"
   ]
  },
  {
   "cell_type": "markdown",
   "metadata": {},
   "source": [
    "## Indexing, selection, Sorting and filtering\n",
    "Series indexing works analogously to NumPy array indexing, except you can use the Series’s index values instead of only integers."
   ]
  },
  {
   "cell_type": "code",
   "execution_count": 32,
   "metadata": {},
   "outputs": [],
   "source": [
    "from __future__ import print_function"
   ]
  },
  {
   "cell_type": "code",
   "execution_count": 33,
   "metadata": {},
   "outputs": [
    {
     "name": "stdout",
     "output_type": "stream",
     "text": [
      "Dataframe: \n",
      "    one  two\n",
      "a  1.0  1.0\n",
      "b  2.0  2.0\n",
      "c  3.0  3.0\n",
      "d  NaN  4.0\n"
     ]
    },
    {
     "data": {
      "text/plain": [
       "a    1.0\n",
       "d    NaN\n",
       "Name: one, dtype: float64"
      ]
     },
     "execution_count": 33,
     "metadata": {},
     "output_type": "execute_result"
    }
   ],
   "source": [
    "print(\"Dataframe: \\n\",df)\n",
    "# Slicing and selecting only column `one` for row 0 and row 4\n",
    "df['one'][['a', 'd']] #first level column, second level row"
   ]
  },
  {
   "cell_type": "code",
   "execution_count": 34,
   "metadata": {},
   "outputs": [
    {
     "data": {
      "text/plain": [
       "b    2.0\n",
       "c    3.0\n",
       "d    NaN\n",
       "Name: one, dtype: float64"
      ]
     },
     "execution_count": 34,
     "metadata": {},
     "output_type": "execute_result"
    }
   ],
   "source": [
    "# Slicing df from row 2 to row 4 for column `one`\n",
    "df['one']['b':'d']"
   ]
  },
  {
   "cell_type": "markdown",
   "metadata": {},
   "source": [
    "If you observe the above command (and the one above it), you will see that slicing with labels behaves differently than normal Python slicing in that the endpoint is *inclusive*.\n",
    "\n",
    "For DataFrame label-indexing on the rows, there is a special indexing field `ix` (or `loc`). It enables you to select a subset of the rows and columns from a DataFrame with NumPy- like notation plus axis labels. It is a less verbose way to do the reindexing."
   ]
  },
  {
   "cell_type": "code",
   "execution_count": 35,
   "metadata": {},
   "outputs": [
    {
     "data": {
      "text/html": [
       "<div>\n",
       "<style>\n",
       "    .dataframe thead tr:only-child th {\n",
       "        text-align: right;\n",
       "    }\n",
       "\n",
       "    .dataframe thead th {\n",
       "        text-align: left;\n",
       "    }\n",
       "\n",
       "    .dataframe tbody tr th {\n",
       "        vertical-align: top;\n",
       "    }\n",
       "</style>\n",
       "<table border=\"1\" class=\"dataframe\">\n",
       "  <thead>\n",
       "    <tr style=\"text-align: right;\">\n",
       "      <th></th>\n",
       "      <th>one</th>\n",
       "    </tr>\n",
       "  </thead>\n",
       "  <tbody>\n",
       "    <tr>\n",
       "      <th>a</th>\n",
       "      <td>1.0</td>\n",
       "    </tr>\n",
       "    <tr>\n",
       "      <th>c</th>\n",
       "      <td>3.0</td>\n",
       "    </tr>\n",
       "  </tbody>\n",
       "</table>\n",
       "</div>"
      ],
      "text/plain": [
       "   one\n",
       "a  1.0\n",
       "c  3.0"
      ]
     },
     "execution_count": 35,
     "metadata": {},
     "output_type": "execute_result"
    }
   ],
   "source": [
    "df.ix[['a','c'],['one']]"
   ]
  },
  {
   "cell_type": "code",
   "execution_count": 26,
   "metadata": {},
   "outputs": [
    {
     "data": {
      "text/html": [
       "<div>\n",
       "<style>\n",
       "    .dataframe thead tr:only-child th {\n",
       "        text-align: right;\n",
       "    }\n",
       "\n",
       "    .dataframe thead th {\n",
       "        text-align: left;\n",
       "    }\n",
       "\n",
       "    .dataframe tbody tr th {\n",
       "        vertical-align: top;\n",
       "    }\n",
       "</style>\n",
       "<table border=\"1\" class=\"dataframe\">\n",
       "  <thead>\n",
       "    <tr style=\"text-align: right;\">\n",
       "      <th></th>\n",
       "      <th>one</th>\n",
       "    </tr>\n",
       "  </thead>\n",
       "  <tbody>\n",
       "    <tr>\n",
       "      <th>a</th>\n",
       "      <td>1.0</td>\n",
       "    </tr>\n",
       "    <tr>\n",
       "      <th>c</th>\n",
       "      <td>3.0</td>\n",
       "    </tr>\n",
       "  </tbody>\n",
       "</table>\n",
       "</div>"
      ],
      "text/plain": [
       "   one\n",
       "a  1.0\n",
       "c  3.0"
      ]
     },
     "execution_count": 26,
     "metadata": {},
     "output_type": "execute_result"
    }
   ],
   "source": [
    "df.loc[['a', 'c'], ['one']]"
   ]
  },
  {
   "cell_type": "code",
   "execution_count": 36,
   "metadata": {},
   "outputs": [
    {
     "data": {
      "text/html": [
       "<div>\n",
       "<style>\n",
       "    .dataframe thead tr:only-child th {\n",
       "        text-align: right;\n",
       "    }\n",
       "\n",
       "    .dataframe thead th {\n",
       "        text-align: left;\n",
       "    }\n",
       "\n",
       "    .dataframe tbody tr th {\n",
       "        vertical-align: top;\n",
       "    }\n",
       "</style>\n",
       "<table border=\"1\" class=\"dataframe\">\n",
       "  <thead>\n",
       "    <tr style=\"text-align: right;\">\n",
       "      <th></th>\n",
       "      <th>one</th>\n",
       "      <th>two</th>\n",
       "    </tr>\n",
       "  </thead>\n",
       "  <tbody>\n",
       "    <tr>\n",
       "      <th>b</th>\n",
       "      <td>2.0</td>\n",
       "      <td>2.0</td>\n",
       "    </tr>\n",
       "    <tr>\n",
       "      <th>c</th>\n",
       "      <td>3.0</td>\n",
       "      <td>3.0</td>\n",
       "    </tr>\n",
       "  </tbody>\n",
       "</table>\n",
       "</div>"
      ],
      "text/plain": [
       "   one  two\n",
       "b  2.0  2.0\n",
       "c  3.0  3.0"
      ]
     },
     "execution_count": 36,
     "metadata": {},
     "output_type": "execute_result"
    }
   ],
   "source": [
    "df.ix[df.one > 1] #guess what df.one gives us?"
   ]
  },
  {
   "cell_type": "markdown",
   "metadata": {},
   "source": [
    "There are many ways to select and rearrange the data contained in a pandas object. Some indexing options can be seen in below table:\n",
    "\n",
    "|Indexing Type| Description|\n",
    "|:---|:---|\n",
    "|df[val] | Select single column or sequence of columns from the DataFrame. Special case con- veniences: boolean array (filter rows), slice (slice rows), or boolean DataFrame (set values based on some criterion).|\n",
    "|df.ix[val] | Selects single row of subset of rows from the DataFrame.|\n",
    "|df.ix[:, val] | Selects single column of subset of columns.|\n",
    "|df.ix[val1, val2] | Select both rows and columns.|\n",
    "|reindex method | Conform one or more axes to new indexes.|\n",
    "|xs method | Select single row or column as a Series by label.|\n",
    "|icol, irowmethods | Select single column or row, respectively, as a Series by integer location.|\n",
    "|get_value, set_value methods | Select single value by row and column label.|"
   ]
  },
  {
   "cell_type": "markdown",
   "metadata": {},
   "source": [
    "You can sort a data frame or series (by some criteria) using the built-in functions. To sort lexicographically by row or column index, use the sort_index method, which returns a new, sorted object:"
   ]
  },
  {
   "cell_type": "code",
   "execution_count": 37,
   "metadata": {},
   "outputs": [
    {
     "name": "stdout",
     "output_type": "stream",
     "text": [
      "Original Data: \n",
      " g    4\n",
      "c    9\n",
      "a    6\n",
      "b    8\n",
      "e    4\n",
      "d    5\n",
      "f    8\n",
      "dtype: int64\n",
      "\n",
      "Sorted by Index: \n",
      " a    6\n",
      "b    8\n",
      "c    9\n",
      "d    5\n",
      "e    4\n",
      "f    8\n",
      "g    4\n",
      "dtype: int64\n"
     ]
    }
   ],
   "source": [
    "dt = pd.Series(np.random.randint(3, 10, size=7), \n",
    "               index=['g','c','a','b','e','d','f'])\n",
    "print('Original Data: \\n', dt, end=\"\\n\\n\")\n",
    "print('Sorted by Index: \\n',dt.sort_index())"
   ]
  },
  {
   "cell_type": "markdown",
   "metadata": {},
   "source": [
    "## Data alignment and arithmetic\n",
    "Data alignment between DataFrame objects automatically align on both the columns and the index (row labels). The resulting object will have the union of the column and row labels."
   ]
  },
  {
   "cell_type": "code",
   "execution_count": 38,
   "metadata": {},
   "outputs": [
    {
     "name": "stdout",
     "output_type": "stream",
     "text": [
      "df1:\n",
      "           A         B         C         D\n",
      "0  0.614701 -0.317932  0.356245 -0.554791\n",
      "1 -0.555086 -0.289294 -0.502115 -0.404577\n",
      "2  0.264526 -0.330698  0.929304  0.739929\n",
      "3 -1.131837  0.105255 -0.051167  0.957072\n",
      "4  1.081013 -0.028193 -0.447279  0.552911\n",
      "5  1.262494  0.961357  0.470880 -1.258807\n",
      "6  0.686929  1.567346  0.400873  0.004296\n",
      "7  0.075882  0.249698  1.094305 -1.587587\n",
      "8  0.409928 -0.824455  0.679542 -0.945266\n",
      "9  0.480633  0.025987  0.002732  0.508846\n",
      "\n",
      "df2:\n",
      "           A         B         C\n",
      "0 -2.013643  2.357834 -0.346738\n",
      "1  1.873040 -1.257406 -0.099746\n",
      "2  0.041303 -0.000438  1.340581\n",
      "3  0.805397 -0.440903  1.054660\n",
      "4 -0.477963  0.161005  0.035541\n",
      "5 -0.123364 -0.345154 -0.944295\n",
      "6  0.280734  0.254183 -0.882984\n",
      "\n",
      "Sum:\n",
      "           A         B         C   D\n",
      "0 -1.398943  2.039902  0.009508 NaN\n",
      "1  1.317954 -1.546700 -0.601862 NaN\n",
      "2  0.305829 -0.331135  2.269885 NaN\n",
      "3 -0.326439 -0.335648  1.003493 NaN\n",
      "4  0.603051  0.132812 -0.411738 NaN\n",
      "5  1.139130  0.616203 -0.473415 NaN\n",
      "6  0.967663  1.821529 -0.482111 NaN\n",
      "7       NaN       NaN       NaN NaN\n",
      "8       NaN       NaN       NaN NaN\n",
      "9       NaN       NaN       NaN NaN\n"
     ]
    }
   ],
   "source": [
    "df1 = pd.DataFrame(np.random.randn(10, 4), columns=['A', 'B', 'C', 'D'])\n",
    "df2 = pd.DataFrame(np.random.randn(7, 3), columns=['A', 'B', 'C'])\n",
    "print('df1:\\n',df1, end=\"\\n\\n\")\n",
    "print('df2:\\n',df2, end=\"\\n\\n\")\n",
    "print('Sum:\\n',df1.add(df2))"
   ]
  },
  {
   "cell_type": "markdown",
   "metadata": {},
   "source": [
    "Note that in arithmetic operations between differently-indexed objects, you might want to fill with a special value, like 0, when an axis label is found in one object but not the other:"
   ]
  },
  {
   "cell_type": "code",
   "execution_count": 45,
   "metadata": {},
   "outputs": [
    {
     "name": "stdout",
     "output_type": "stream",
     "text": [
      "Sum:\n",
      "           A         B         C         D\n",
      "0 -1.398943  2.039902  0.009508 -0.554791\n",
      "1  1.317954 -1.546700 -0.601862 -0.404577\n",
      "2  0.305829 -0.331135  2.269885  0.739929\n",
      "3 -0.326439 -0.335648  1.003493  0.957072\n",
      "4  0.603051  0.132812 -0.411738  0.552911\n",
      "5  1.139130  0.616203 -0.473415 -1.258807\n",
      "6  0.967663  1.821529 -0.482111  0.004296\n",
      "7  0.075882  0.249698  1.094305 -1.587587\n",
      "8  0.409928 -0.824455  0.679542 -0.945266\n",
      "9  0.480633  0.025987  0.002732  0.508846\n"
     ]
    }
   ],
   "source": [
    "print('Sum:\\n',df1.add(df2, fill_value=0)) #parameters that you can tune/pass"
   ]
  },
  {
   "cell_type": "markdown",
   "metadata": {},
   "source": [
    "Similarly you can perform subtracion, multiplication and division. \n",
    "\n",
    "When doing an operation between DataFrame and Series, the default behavior is to align the Series index on the DataFrame columns, thus broadcasting (just like in numpy) row-wise."
   ]
  },
  {
   "cell_type": "code",
   "execution_count": 46,
   "metadata": {},
   "outputs": [],
   "source": [
    "#df1.multiply(df2)\n",
    "#df1.divide(df2)\n",
    "#df1.subtract(df2)"
   ]
  },
  {
   "cell_type": "code",
   "execution_count": 47,
   "metadata": {},
   "outputs": [
    {
     "name": "stdout",
     "output_type": "stream",
     "text": [
      "Dataframe: \n",
      "           A         B         C         D\n",
      "0  0.614701 -0.317932  0.356245 -0.554791\n",
      "1 -0.555086 -0.289294 -0.502115 -0.404577\n",
      "2  0.264526 -0.330698  0.929304  0.739929\n",
      "3 -1.131837  0.105255 -0.051167  0.957072\n",
      "4  1.081013 -0.028193 -0.447279  0.552911\n",
      "5  1.262494  0.961357  0.470880 -1.258807\n",
      "6  0.686929  1.567346  0.400873  0.004296\n",
      "7  0.075882  0.249698  1.094305 -1.587587\n",
      "8  0.409928 -0.824455  0.679542 -0.945266\n",
      "9  0.480633  0.025987  0.002732  0.508846\n",
      "\n",
      "Operand (0th row): \n",
      " A    0.614701\n",
      "B   -0.317932\n",
      "C    0.356245\n",
      "D   -0.554791\n",
      "Name: 0, dtype: float64\n",
      "\n",
      "Subtraction: \n",
      "           A         B         C         D\n",
      "0  0.000000  0.000000  0.000000  0.000000\n",
      "1 -1.169787  0.028637 -0.858361  0.150214\n",
      "2 -0.350175 -0.012766  0.573059  1.294720\n",
      "3 -1.746537  0.423187 -0.407412  1.511863\n",
      "4  0.466312  0.289738 -0.803524  1.107702\n",
      "5  0.647794  1.279289  0.114634 -0.704015\n",
      "6  0.072228  1.885278  0.044628  0.559088\n",
      "7 -0.538818  0.567629  0.738060 -1.032796\n",
      "8 -0.204773 -0.506524  0.323297 -0.390474\n",
      "9 -0.134068  0.343919 -0.353514  1.063638\n"
     ]
    }
   ],
   "source": [
    "print(\"Dataframe: \\n\", df1, end=\"\\n\\n\")\n",
    "print(\"Operand (0th row): \\n\", df1.loc[0], end=\"\\n\\n\")\n",
    "print('Subtraction: \\n',df1.sub(df1.loc[0]))"
   ]
  },
  {
   "cell_type": "markdown",
   "metadata": {},
   "source": [
    "In the special case of working with time series data, and the DataFrame index also contains dates, the broadcasting will be column-wise:"
   ]
  },
  {
   "cell_type": "code",
   "execution_count": null,
   "metadata": {},
   "outputs": [],
   "source": [
    "ind1 = pd.date_range('06/1/2017', periods=10)\n",
    "df1.set_index(ind1)"
   ]
  },
  {
   "cell_type": "markdown",
   "metadata": {},
   "source": [
    "## Using Numpy functions on DataFrame\n",
    "Elementwise NumPy `ufuncs` like `log`, `exp`, `sqrt`, ... and various other NumPy functions can be used on DataFrame"
   ]
  },
  {
   "cell_type": "code",
   "execution_count": null,
   "metadata": {},
   "outputs": [],
   "source": [
    "np.abs(df1)"
   ]
  },
  {
   "cell_type": "code",
   "execution_count": null,
   "metadata": {},
   "outputs": [],
   "source": [
    "# Convert to numpy array\n",
    "np.asarray(df1)"
   ]
  },
  {
   "cell_type": "markdown",
   "metadata": {},
   "source": [
    "Another frequent operation is applying a function on 1D arrays to each column or row. DataFrame’s apply method does exactly this:"
   ]
  },
  {
   "cell_type": "code",
   "execution_count": null,
   "metadata": {},
   "outputs": [],
   "source": [
    "def fn(x):\n",
    "    \"\"\"\n",
    "    Get max and min of the columns\n",
    "    \"\"\"\n",
    "    return pd.Series([x.min(), x.max()], index=['min', 'max'])\n",
    "\n",
    "df1.apply(fn)"
   ]
  },
  {
   "cell_type": "markdown",
   "metadata": {},
   "source": [
    "Element-wise Python functions can be used, too. Suppose you wanted to format the dataframe elements in floating point format with accuracy of only 3 decimal places. You can do this with applymap:"
   ]
  },
  {
   "cell_type": "code",
   "execution_count": null,
   "metadata": {},
   "outputs": [],
   "source": [
    "fmt = lambda x: \"{:.3f}\".format(x)\n",
    "df1.applymap(fmt)"
   ]
  },
  {
   "cell_type": "markdown",
   "metadata": {},
   "source": [
    "> The reason for the name `applymap` for dataframe (instead of simply using `map`)is that pandas Series already has a `map` method for applying an element-wise operation"
   ]
  }
 ],
 "metadata": {
  "anaconda-cloud": {},
  "kernelspec": {
   "display_name": "Python 2",
   "language": "python",
   "name": "python2"
  },
  "language_info": {
   "codemirror_mode": {
    "name": "ipython",
    "version": 2
   },
   "file_extension": ".py",
   "mimetype": "text/x-python",
   "name": "python",
   "nbconvert_exporter": "python",
   "pygments_lexer": "ipython2",
   "version": "2.7.13"
  }
 },
 "nbformat": 4,
 "nbformat_minor": 1
}
